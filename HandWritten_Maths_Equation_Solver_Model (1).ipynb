{
  "nbformat": 4,
  "nbformat_minor": 0,
  "metadata": {
    "colab": {
      "provenance": []
    },
    "kernelspec": {
      "name": "python3",
      "display_name": "Python 3"
    },
    "language_info": {
      "name": "python"
    },
    "widgets": {
      "application/vnd.jupyter.widget-state+json": {
        "0bf4ad8f1fd7468c8512a5abfecb002a": {
          "model_module": "@jupyter-widgets/controls",
          "model_name": "HBoxModel",
          "model_module_version": "1.5.0",
          "state": {
            "_dom_classes": [],
            "_model_module": "@jupyter-widgets/controls",
            "_model_module_version": "1.5.0",
            "_model_name": "HBoxModel",
            "_view_count": null,
            "_view_module": "@jupyter-widgets/controls",
            "_view_module_version": "1.5.0",
            "_view_name": "HBoxView",
            "box_style": "",
            "children": [
              "IPY_MODEL_3152b14134334db5a2ceb3f4dc800990",
              "IPY_MODEL_22b64a6348764354b43573adc79436c5",
              "IPY_MODEL_6e11ea8236b443cd992924ae59f666ab"
            ],
            "layout": "IPY_MODEL_9324a7bc994442d3bd0ee3d774d551d0"
          }
        },
        "3152b14134334db5a2ceb3f4dc800990": {
          "model_module": "@jupyter-widgets/controls",
          "model_name": "FileUploadModel",
          "model_module_version": "1.5.0",
          "state": {
            "_counter": 2,
            "_dom_classes": [],
            "_model_module": "@jupyter-widgets/controls",
            "_model_module_version": "1.5.0",
            "_model_name": "FileUploadModel",
            "_view_count": null,
            "_view_module": "@jupyter-widgets/controls",
            "_view_module_version": "1.5.0",
            "_view_name": "FileUploadView",
            "accept": "image/*",
            "button_style": "",
            "data": [
              null
            ],
            "description": "Upload",
            "description_tooltip": null,
            "disabled": false,
            "error": "",
            "icon": "upload",
            "layout": "IPY_MODEL_10f495a5ec0c45ecbfdac6a549a05490",
            "metadata": [
              {
                "name": "test eqn bad writing.png",
                "type": "image/png",
                "size": 7148,
                "lastModified": 1731819326763
              }
            ],
            "multiple": false,
            "style": "IPY_MODEL_e6d875f8ad314af7a69c168c8358dc0b"
          }
        },
        "22b64a6348764354b43573adc79436c5": {
          "model_module": "@jupyter-widgets/controls",
          "model_name": "ButtonModel",
          "model_module_version": "1.5.0",
          "state": {
            "_dom_classes": [],
            "_model_module": "@jupyter-widgets/controls",
            "_model_module_version": "1.5.0",
            "_model_name": "ButtonModel",
            "_view_count": null,
            "_view_module": "@jupyter-widgets/controls",
            "_view_module_version": "1.5.0",
            "_view_name": "ButtonView",
            "button_style": "",
            "description": "Evaluate Equation",
            "disabled": false,
            "icon": "",
            "layout": "IPY_MODEL_916b3bca7d3e48f38abe752c38e26b52",
            "style": "IPY_MODEL_c7a909c231044ed5b2025baf3ab7b211",
            "tooltip": ""
          }
        },
        "6e11ea8236b443cd992924ae59f666ab": {
          "model_module": "@jupyter-widgets/controls",
          "model_name": "ButtonModel",
          "model_module_version": "1.5.0",
          "state": {
            "_dom_classes": [],
            "_model_module": "@jupyter-widgets/controls",
            "_model_module_version": "1.5.0",
            "_model_name": "ButtonModel",
            "_view_count": null,
            "_view_module": "@jupyter-widgets/controls",
            "_view_module_version": "1.5.0",
            "_view_name": "ButtonView",
            "button_style": "",
            "description": "Reset",
            "disabled": false,
            "icon": "",
            "layout": "IPY_MODEL_18f4258dc2e4461294b9f11113dd526a",
            "style": "IPY_MODEL_c25107562ba64aacaf2740688ef29db2",
            "tooltip": ""
          }
        },
        "9324a7bc994442d3bd0ee3d774d551d0": {
          "model_module": "@jupyter-widgets/base",
          "model_name": "LayoutModel",
          "model_module_version": "1.2.0",
          "state": {
            "_model_module": "@jupyter-widgets/base",
            "_model_module_version": "1.2.0",
            "_model_name": "LayoutModel",
            "_view_count": null,
            "_view_module": "@jupyter-widgets/base",
            "_view_module_version": "1.2.0",
            "_view_name": "LayoutView",
            "align_content": null,
            "align_items": null,
            "align_self": null,
            "border": null,
            "bottom": null,
            "display": null,
            "flex": null,
            "flex_flow": null,
            "grid_area": null,
            "grid_auto_columns": null,
            "grid_auto_flow": null,
            "grid_auto_rows": null,
            "grid_column": null,
            "grid_gap": null,
            "grid_row": null,
            "grid_template_areas": null,
            "grid_template_columns": null,
            "grid_template_rows": null,
            "height": null,
            "justify_content": null,
            "justify_items": null,
            "left": null,
            "margin": null,
            "max_height": null,
            "max_width": null,
            "min_height": null,
            "min_width": null,
            "object_fit": null,
            "object_position": null,
            "order": null,
            "overflow": null,
            "overflow_x": null,
            "overflow_y": null,
            "padding": null,
            "right": null,
            "top": null,
            "visibility": null,
            "width": null
          }
        },
        "10f495a5ec0c45ecbfdac6a549a05490": {
          "model_module": "@jupyter-widgets/base",
          "model_name": "LayoutModel",
          "model_module_version": "1.2.0",
          "state": {
            "_model_module": "@jupyter-widgets/base",
            "_model_module_version": "1.2.0",
            "_model_name": "LayoutModel",
            "_view_count": null,
            "_view_module": "@jupyter-widgets/base",
            "_view_module_version": "1.2.0",
            "_view_name": "LayoutView",
            "align_content": null,
            "align_items": null,
            "align_self": null,
            "border": null,
            "bottom": null,
            "display": null,
            "flex": null,
            "flex_flow": null,
            "grid_area": null,
            "grid_auto_columns": null,
            "grid_auto_flow": null,
            "grid_auto_rows": null,
            "grid_column": null,
            "grid_gap": null,
            "grid_row": null,
            "grid_template_areas": null,
            "grid_template_columns": null,
            "grid_template_rows": null,
            "height": null,
            "justify_content": null,
            "justify_items": null,
            "left": null,
            "margin": null,
            "max_height": null,
            "max_width": null,
            "min_height": null,
            "min_width": null,
            "object_fit": null,
            "object_position": null,
            "order": null,
            "overflow": null,
            "overflow_x": null,
            "overflow_y": null,
            "padding": null,
            "right": null,
            "top": null,
            "visibility": null,
            "width": null
          }
        },
        "e6d875f8ad314af7a69c168c8358dc0b": {
          "model_module": "@jupyter-widgets/controls",
          "model_name": "ButtonStyleModel",
          "model_module_version": "1.5.0",
          "state": {
            "_model_module": "@jupyter-widgets/controls",
            "_model_module_version": "1.5.0",
            "_model_name": "ButtonStyleModel",
            "_view_count": null,
            "_view_module": "@jupyter-widgets/base",
            "_view_module_version": "1.2.0",
            "_view_name": "StyleView",
            "button_color": "green",
            "font_weight": ""
          }
        },
        "916b3bca7d3e48f38abe752c38e26b52": {
          "model_module": "@jupyter-widgets/base",
          "model_name": "LayoutModel",
          "model_module_version": "1.2.0",
          "state": {
            "_model_module": "@jupyter-widgets/base",
            "_model_module_version": "1.2.0",
            "_model_name": "LayoutModel",
            "_view_count": null,
            "_view_module": "@jupyter-widgets/base",
            "_view_module_version": "1.2.0",
            "_view_name": "LayoutView",
            "align_content": null,
            "align_items": null,
            "align_self": null,
            "border": null,
            "bottom": null,
            "display": null,
            "flex": null,
            "flex_flow": null,
            "grid_area": null,
            "grid_auto_columns": null,
            "grid_auto_flow": null,
            "grid_auto_rows": null,
            "grid_column": null,
            "grid_gap": null,
            "grid_row": null,
            "grid_template_areas": null,
            "grid_template_columns": null,
            "grid_template_rows": null,
            "height": null,
            "justify_content": null,
            "justify_items": null,
            "left": null,
            "margin": null,
            "max_height": null,
            "max_width": null,
            "min_height": null,
            "min_width": null,
            "object_fit": null,
            "object_position": null,
            "order": null,
            "overflow": null,
            "overflow_x": null,
            "overflow_y": null,
            "padding": null,
            "right": null,
            "top": null,
            "visibility": null,
            "width": null
          }
        },
        "c7a909c231044ed5b2025baf3ab7b211": {
          "model_module": "@jupyter-widgets/controls",
          "model_name": "ButtonStyleModel",
          "model_module_version": "1.5.0",
          "state": {
            "_model_module": "@jupyter-widgets/controls",
            "_model_module_version": "1.5.0",
            "_model_name": "ButtonStyleModel",
            "_view_count": null,
            "_view_module": "@jupyter-widgets/base",
            "_view_module_version": "1.2.0",
            "_view_name": "StyleView",
            "button_color": "green",
            "font_weight": ""
          }
        },
        "18f4258dc2e4461294b9f11113dd526a": {
          "model_module": "@jupyter-widgets/base",
          "model_name": "LayoutModel",
          "model_module_version": "1.2.0",
          "state": {
            "_model_module": "@jupyter-widgets/base",
            "_model_module_version": "1.2.0",
            "_model_name": "LayoutModel",
            "_view_count": null,
            "_view_module": "@jupyter-widgets/base",
            "_view_module_version": "1.2.0",
            "_view_name": "LayoutView",
            "align_content": null,
            "align_items": null,
            "align_self": null,
            "border": null,
            "bottom": null,
            "display": null,
            "flex": null,
            "flex_flow": null,
            "grid_area": null,
            "grid_auto_columns": null,
            "grid_auto_flow": null,
            "grid_auto_rows": null,
            "grid_column": null,
            "grid_gap": null,
            "grid_row": null,
            "grid_template_areas": null,
            "grid_template_columns": null,
            "grid_template_rows": null,
            "height": null,
            "justify_content": null,
            "justify_items": null,
            "left": null,
            "margin": null,
            "max_height": null,
            "max_width": null,
            "min_height": null,
            "min_width": null,
            "object_fit": null,
            "object_position": null,
            "order": null,
            "overflow": null,
            "overflow_x": null,
            "overflow_y": null,
            "padding": null,
            "right": null,
            "top": null,
            "visibility": null,
            "width": null
          }
        },
        "c25107562ba64aacaf2740688ef29db2": {
          "model_module": "@jupyter-widgets/controls",
          "model_name": "ButtonStyleModel",
          "model_module_version": "1.5.0",
          "state": {
            "_model_module": "@jupyter-widgets/controls",
            "_model_module_version": "1.5.0",
            "_model_name": "ButtonStyleModel",
            "_view_count": null,
            "_view_module": "@jupyter-widgets/base",
            "_view_module_version": "1.2.0",
            "_view_name": "StyleView",
            "button_color": "red",
            "font_weight": ""
          }
        },
        "82fe3183a71848758cf5bdff3b8c1879": {
          "model_module": "@jupyter-widgets/output",
          "model_name": "OutputModel",
          "model_module_version": "1.0.0",
          "state": {
            "_dom_classes": [],
            "_model_module": "@jupyter-widgets/output",
            "_model_module_version": "1.0.0",
            "_model_name": "OutputModel",
            "_view_count": null,
            "_view_module": "@jupyter-widgets/output",
            "_view_module_version": "1.0.0",
            "_view_name": "OutputView",
            "layout": "IPY_MODEL_21303db36fa3431caf1edc514ca63919",
            "msg_id": "",
            "outputs": [
              {
                "output_type": "display_data",
                "data": {
                  "text/plain": "<Figure size 640x480 with 1 Axes>",
                  "image/png": "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\n"
                },
                "metadata": {}
              },
              {
                "output_type": "stream",
                "name": "stdout",
                "text": [
                  "Equation: 67+24-12*3\n",
                  "Solution: 55\n"
                ]
              }
            ]
          }
        },
        "21303db36fa3431caf1edc514ca63919": {
          "model_module": "@jupyter-widgets/base",
          "model_name": "LayoutModel",
          "model_module_version": "1.2.0",
          "state": {
            "_model_module": "@jupyter-widgets/base",
            "_model_module_version": "1.2.0",
            "_model_name": "LayoutModel",
            "_view_count": null,
            "_view_module": "@jupyter-widgets/base",
            "_view_module_version": "1.2.0",
            "_view_name": "LayoutView",
            "align_content": null,
            "align_items": null,
            "align_self": null,
            "border": null,
            "bottom": null,
            "display": null,
            "flex": null,
            "flex_flow": null,
            "grid_area": null,
            "grid_auto_columns": null,
            "grid_auto_flow": null,
            "grid_auto_rows": null,
            "grid_column": null,
            "grid_gap": null,
            "grid_row": null,
            "grid_template_areas": null,
            "grid_template_columns": null,
            "grid_template_rows": null,
            "height": null,
            "justify_content": null,
            "justify_items": null,
            "left": null,
            "margin": null,
            "max_height": null,
            "max_width": null,
            "min_height": null,
            "min_width": null,
            "object_fit": null,
            "object_position": null,
            "order": null,
            "overflow": null,
            "overflow_x": null,
            "overflow_y": null,
            "padding": null,
            "right": null,
            "top": null,
            "visibility": null,
            "width": null
          }
        }
      }
    }
  },
  "cells": [
    {
      "cell_type": "code",
      "execution_count": null,
      "metadata": {
        "id": "m3fC-jyxlJKH"
      },
      "outputs": [],
      "source": []
    },
    {
      "cell_type": "markdown",
      "source": [
        "# HANDWRITTEN EQUATION **SOLVER**"
      ],
      "metadata": {
        "id": "g9IUmjoJmFdi"
      }
    },
    {
      "cell_type": "markdown",
      "source": [
        "### **STEPS TAKEN:**\n",
        "\n",
        "* Connecting the notebook to google docs, where we have the dataset\n",
        "* Loading the dataset and importing the libraries (Importing necessary libraries as the code requires)\n",
        "* Loading the images into an array\n",
        "* Splitting the images for training and testing purpose\n",
        "* Preprocessing the data\n",
        "* Building the CNN model\n",
        "* Training the data\n",
        "* Saving the trained model\n",
        "* Evaluating the model performance using test data, plotting the confusion matrix and heatmap\n",
        "* Evaluating the model performance on sample images from the internet\n",
        "\n",
        "### Equation solving:\n",
        "* Importing the equation from the local drive\n",
        "* Preprocessing the image and segregating individual digits and symbols\n",
        "* Using the trained model, predicting each symbol\n",
        "* Recombining the equation and solving it\n",
        "\n"
      ],
      "metadata": {
        "id": "CRVg5AuimQJv"
      }
    },
    {
      "cell_type": "markdown",
      "source": [
        "### Mounting google drive and setting up data directory"
      ],
      "metadata": {
        "id": "-iQjX3IQKrnK"
      }
    },
    {
      "cell_type": "code",
      "source": [
        "# Mount Google Drive to access the uploaded dataset\n",
        "from google.colab import drive\n",
        "drive.mount('/content/drive')\n",
        "\n",
        "# Set the path to your dataset folder\n",
        "data_dir = '/content/drive/My Drive/dataset'"
      ],
      "metadata": {
        "colab": {
          "base_uri": "https://localhost:8080/"
        },
        "id": "B6WL_VIKnORs",
        "outputId": "c13d7c16-9092-44c0-a38a-78d3875c5d86"
      },
      "execution_count": null,
      "outputs": [
        {
          "output_type": "stream",
          "name": "stdout",
          "text": [
            "Mounted at /content/drive\n"
          ]
        }
      ]
    },
    {
      "cell_type": "markdown",
      "source": [
        "### Load images and assign labels\n"
      ],
      "metadata": {
        "id": "x00y_b9vK5Ht"
      }
    },
    {
      "cell_type": "code",
      "source": [
        "from pathlib import Path\n",
        "import numpy as np\n",
        "from PIL import Image\n",
        "import matplotlib.pyplot as plt\n",
        "\n",
        "# Define image dimensions (32x32 for better quality compared to 28x28, but does not take too much computation)\n",
        "IMG_SIZE = 32\n",
        "\n",
        "# Label mapping from folder names to integer labels\n",
        "label_mapping = {'0': 0, '1': 1, '2': 2, '3': 3, '4': 4, '5': 5, '6': 6, '7': 7, '8': 8, '9': 9, 'add': 10, 'div': 11, 'mul': 12, 'sub': 13}\n",
        "\n",
        "# Initialize lists to hold images and labels\n",
        "images = []\n",
        "labels = []\n",
        "\n",
        "# Iterate through the label mapping and load the images\n",
        "for label, label_num in label_mapping.items():  # Where label is the class of the image, and label_num is the assigned integer\n",
        "    label_folder_path = Path(data_dir) / label  # Using pathlib to create the path to the folder containing images for that label\n",
        "\n",
        "    if label_folder_path.is_dir():  # Check if the path is a directory\n",
        "        # Go through all files in the label's folder\n",
        "        for image_file in label_folder_path.iterdir():  #folder.iterdir(): iterates over the files in the folder\n",
        "            # Open the image directly\n",
        "            img = Image.open(image_file)\n",
        "\n",
        "            # Resize the image to the desired size\n",
        "            resized_image = img.resize((IMG_SIZE, IMG_SIZE))\n",
        "\n",
        "            # Convert the image to a numpy array and append it to the list\n",
        "            images.append(np.array(resized_image))\n",
        "            labels.append(label_num)\n",
        "\n",
        "# Convert lists to numpy arrays\n",
        "images = np.array(images)\n",
        "labels = np.array(labels)\n",
        "\n",
        "# Print out details of the dataset\n",
        "print(f\"Loaded {len(images)} images with labels\")\n",
        "print(f\"Image shape: {images[0].shape}\")\n",
        "\n",
        "# Visualize a few images\n",
        "plt.figure(figsize=(10, 6))\n",
        "for i in range(min(6, len(images))):  # Display 6 images\n",
        "    plt.subplot(2, 3, i + 1)\n",
        "    plt.imshow(images[i], cmap='gray')\n",
        "    plt.axis('off')\n",
        "    plt.title(f\"Label: {labels[i]}\")\n",
        "plt.tight_layout()\n",
        "plt.show()\n"
      ],
      "metadata": {
        "colab": {
          "base_uri": "https://localhost:8080/",
          "height": 642
        },
        "id": "1_jQl-ykKk2G",
        "outputId": "3de73d35-96d1-4eaa-9d54-340c3220bdfe"
      },
      "execution_count": null,
      "outputs": [
        {
          "output_type": "stream",
          "name": "stdout",
          "text": [
            "Loaded 7600 images with labels\n",
            "Image shape: (32, 32)\n"
          ]
        },
        {
          "output_type": "display_data",
          "data": {
            "text/plain": [
              "<Figure size 1000x600 with 6 Axes>"
            ],
            "image/png": "[encoded data removed]"
          },
          "metadata": {}
        }
      ]
    },
    {
      "cell_type": "markdown",
      "source": [
        "### Shuffle and split dataset\n",
        "1. Normalize the image pixel values to the range [0, 1], which is a common practice for neural networks.\n",
        "2. Shuffle the data to ensure randomness, so that the model sees diverse batches of data during training.\n",
        "3. Split the dataset:\n",
        "* 75% for training.\n",
        "* 25% for a temporary set that will be split into:\n",
        " * 50% for validation (to tune the model).\n",
        " * 50% for testing (to evaluate the model after training).\n",
        "4. Print the sizes of the resulting datasets to verify the split."
      ],
      "metadata": {
        "id": "ZvjQv09dSPIY"
      }
    },
    {
      "cell_type": "code",
      "source": [
        "from sklearn.utils import shuffle, train_test_split\n",
        "\n",
        "# Normalize the images (scale the pixel values to [0, 1]) - This will make model training more stable.\n",
        "images = images.astype('float32') / 255.0\n",
        "\n",
        "# Shuffle the dataset to ensure randomness\n",
        "images, labels = shuffle(images, labels, random_state=42)\n",
        "\n",
        "# Split the dataset\n",
        "# First, split into training (75%) and temp (25%)\n",
        "X_train, X_temp, y_train, y_temp = train_test_split(images, labels, test_size=0.25, random_state=42)\n",
        "\n",
        "# Then split the 30% temp into validation (15%) and test (15%)\n",
        "X_val, X_test, y_val, y_test = train_test_split(X_temp, y_temp, test_size=0.5, random_state=42)\n",
        "\n",
        "# Print dataset sizes to verify\n",
        "print(f\"Training set size: {X_train.shape[0]} images\")\n",
        "print(f\"Validation set size: {X_val.shape[0]} images\")\n",
        "print(f\"Test set size: {X_test.shape[0]} images\")"
      ],
      "metadata": {
        "colab": {
          "base_uri": "https://localhost:8080/"
        },
        "id": "k450SmReNFSf",
        "outputId": "e5513118-44bb-4d7e-f48b-b82db261c3fb"
      },
      "execution_count": null,
      "outputs": [
        {
          "output_type": "stream",
          "name": "stdout",
          "text": [
            "Training set size: 5700 images\n",
            "Validation set size: 950 images\n",
            "Test set size: 950 images\n"
          ]
        }
      ]
    },
    {
      "cell_type": "markdown",
      "source": [
        "## Data exploration"
      ],
      "metadata": {
        "id": "6ZNhlYpBTOOC"
      }
    },
    {
      "cell_type": "markdown",
      "source": [
        "### Check label distribution"
      ],
      "metadata": {
        "id": "SYFHClbcTSJU"
      }
    },
    {
      "cell_type": "code",
      "source": [
        "import matplotlib.pyplot as plt\n",
        "import numpy as np\n",
        "\n",
        "# Count occurrences of each label in the training set\n",
        "unique, counts = np.unique(y_train, return_counts=True)\n",
        "label_distribution = dict(zip(unique, counts))\n",
        "\n",
        "# Plotting the label distribution\n",
        "plt.figure(figsize=(10, 5))\n",
        "plt.bar(label_distribution.keys(), label_distribution.values(), color='skyblue')\n",
        "plt.title(\"Label Distribution in Training Set\")\n",
        "plt.xlabel(\"Labels\")\n",
        "plt.ylabel(\"Frequency\")\n",
        "plt.show()"
      ],
      "metadata": {
        "colab": {
          "base_uri": "https://localhost:8080/",
          "height": 487
        },
        "id": "VMBn8kP5TDdK",
        "outputId": "7310b8cd-18ea-4b8a-9d70-42d5822606ff"
      },
      "execution_count": null,
      "outputs": [
        {
          "output_type": "display_data",
          "data": {
            "text/plain": [
              "<Figure size 1000x500 with 1 Axes>"
            ],
            "image/png": "[encoded data removed]"
          },
          "metadata": {}
        }
      ]
    },
    {
      "cell_type": "markdown",
      "source": [
        "### Visualise a few sample images\n",
        "* to ensure images are correctly labelled and resized"
      ],
      "metadata": {
        "id": "hAKuaU0UTdP5"
      }
    },
    {
      "cell_type": "code",
      "source": [
        "# Plot a few random samples from the training set\n",
        "plt.figure(figsize=(10, 10))\n",
        "for i in range(16):  # Display 16 images in a 4x4 grid\n",
        "    plt.subplot(4, 4, i + 1)\n",
        "    index = np.random.randint(0, X_train.shape[0])\n",
        "    plt.imshow(X_train[index], cmap='gray')\n",
        "    plt.title(f\"Label: {y_train[index]}\")\n",
        "    plt.axis('off')\n",
        "plt.show()"
      ],
      "metadata": {
        "colab": {
          "base_uri": "https://localhost:8080/",
          "height": 829
        },
        "id": "5DVzWc84TYNr",
        "outputId": "6e194108-5143-4bb1-a484-153b6432c1f0"
      },
      "execution_count": null,
      "outputs": [
        {
          "output_type": "display_data",
          "data": {
            "text/plain": [
              "<Figure size 1000x1000 with 16 Axes>"
            ],
            "image/png": "[encoded data removed]"
          },
          "metadata": {}
        }
      ]
    },
    {
      "cell_type": "markdown",
      "source": [
        "### Basic image statistics"
      ],
      "metadata": {
        "id": "vmIj0nJqTyvc"
      }
    },
    {
      "cell_type": "code",
      "source": [
        "# Print basic stats like mean and standard deviation\n",
        "print(f\"Mean pixel value (training set): {X_train.mean():.4f}\") #.4f limits result to 4 decimal places\n",
        "print(f\"Standard deviation of pixel values (training set): {X_train.std():.4f}\")"
      ],
      "metadata": {
        "colab": {
          "base_uri": "https://localhost:8080/"
        },
        "id": "Mu1WvRqWToTD",
        "outputId": "2c98979b-679d-4a1c-d0e5-248fe811ed92"
      },
      "execution_count": null,
      "outputs": [
        {
          "output_type": "stream",
          "name": "stdout",
          "text": [
            "Mean pixel value (training set): 0.9413\n",
            "Standard deviation of pixel values (training set): 0.2269\n"
          ]
        }
      ]
    },
    {
      "cell_type": "code",
      "source": [
        "print(X_train.shape)\n",
        "print(X_test.shape)\n",
        "print(y_train.shape)\n",
        "print(y_test.shape)"
      ],
      "metadata": {
        "colab": {
          "base_uri": "https://localhost:8080/"
        },
        "id": "7p7S-cJLkLb7",
        "outputId": "f0b45764-d4c6-4b46-c585-1ac0a6859450"
      },
      "execution_count": null,
      "outputs": [
        {
          "output_type": "stream",
          "name": "stdout",
          "text": [
            "(5700, 32, 32)\n",
            "(950, 32, 32)\n",
            "(5700,)\n",
            "(950,)\n"
          ]
        }
      ]
    },
    {
      "cell_type": "markdown",
      "source": [
        "### Label encoding: (One hot encode)\n",
        "* Label Encoding is a technique that converts categorical labels into numerical values, typically by assigning each category an integer.\n",
        "* One-Hot Encoding is a more sophisticated technique used to convert categorical data into a binary matrix (or vector). Each category is represented as a binary vector where only one element is 1, and the rest are 0"
      ],
      "metadata": {
        "id": "gXlGnQeomO_-"
      }
    },
    {
      "cell_type": "code",
      "source": [
        "from tensorflow.keras.utils import to_categorical\n",
        "\n",
        "y_train_encoded = to_categorical(y_train)\n",
        "y_test_encoded = to_categorical(y_test)\n",
        "\n",
        "# Check new shape\n",
        "print(\"Encoded Labels Shape:\", y_train_encoded.shape, y_test_encoded.shape)"
      ],
      "metadata": {
        "colab": {
          "base_uri": "https://localhost:8080/"
        },
        "id": "CmwIaH0GlAuD",
        "outputId": "6013dc1d-e204-4d93-a200-55c63965721f"
      },
      "execution_count": null,
      "outputs": [
        {
          "output_type": "stream",
          "name": "stdout",
          "text": [
            "Encoded Labels Shape: (5700, 14) (950, 14)\n"
          ]
        }
      ]
    },
    {
      "cell_type": "markdown",
      "source": [
        "### Reshaping data for CNN\n",
        "\n",
        "CNN expect a 3D input, so we add a single channel (for grayscale)"
      ],
      "metadata": {
        "id": "zA9U3TVDm6yW"
      }
    },
    {
      "cell_type": "code",
      "source": [
        "# Adding a channel dimension\n",
        "X_train_reshaped = X_train.reshape(-1, 32, 32, 1)\n",
        "X_test_reshaped = X_test.reshape(-1, 32, 32, 1)\n",
        "\n",
        "# Verify the shape\n",
        "print(\"Training data shape:\", X_train_reshaped.shape)\n",
        "print(\"Test data shape:\", X_test_reshaped.shape)"
      ],
      "metadata": {
        "colab": {
          "base_uri": "https://localhost:8080/"
        },
        "id": "1UzamJ3YmUom",
        "outputId": "60e6ea01-804f-4210-e297-e5d6a12e1c67"
      },
      "execution_count": null,
      "outputs": [
        {
          "output_type": "stream",
          "name": "stdout",
          "text": [
            "Training data shape: (5700, 32, 32, 1)\n",
            "Test data shape: (950, 32, 32, 1)\n"
          ]
        }
      ]
    },
    {
      "cell_type": "markdown",
      "source": [
        "## Building CNN Model\n",
        "* Model Architecture Design:\n",
        "\n",
        "1. Convolutional Layers:\n",
        "Used padding='same' to maintain spatial dimensions after each convolution, ensuring edge information is preserved.\n",
        "Selected two convolutional blocks with filters of 64 and 128 respectively to progressively extract and combine features from the images.\n",
        "\n",
        "2. Batch Normalization: Applied batch normalization after each convolutional layer and dense layer to improve convergence, prevent vanishing or exploding gradients, and add slight regularization.\n",
        "\n",
        "3. Pooling and Dropout Layers:\n",
        "Inserted max pooling layers after each convolution block to downsample spatial dimensions and reduce the number of parameters.\n",
        "Integrated dropout after each convolutional block and before the output to mitigate overfitting.\n",
        "\n",
        "4. Dense Layers:\n",
        "Used a fully connected layer with 1024 units to integrate features from convolutional layers. Applied dropout with a 50% rate for additional regularization.\n",
        "Added a softmax output layer with 14 units (one for each class), converting the model's output to class probabilities.\n",
        "\n",
        "* Model Compilation:\n",
        "Compiled the model using the Adam optimizer for adaptive learning, categorical cross-entropy as the loss function (appropriate for multi-class classification), and accuracy as the evaluation metric.\n"
      ],
      "metadata": {
        "id": "TxJsRio6oRw0"
      }
    },
    {
      "cell_type": "code",
      "source": [
        "from tensorflow.keras.models import Sequential\n",
        "from tensorflow.keras.layers import Conv2D, MaxPooling2D, Flatten, Dense, Dropout, BatchNormalization\n",
        "\n",
        "model = Sequential([\n",
        "    # First Convolutional Block\n",
        "    Conv2D(64, (3, 3), activation='relu', padding='same', input_shape=(32, 32, 1)),\n",
        "    BatchNormalization(),\n",
        "    MaxPooling2D((2, 2)),\n",
        "    Dropout(0.3),\n",
        "\n",
        "    # Second Convolutional Block\n",
        "    Conv2D(128, (3, 3), activation='relu', padding='same'),\n",
        "    BatchNormalization(),\n",
        "    MaxPooling2D((2, 2)),\n",
        "    Dropout(0.3),\n",
        "\n",
        "    # Flattening Layer\n",
        "    Flatten(),\n",
        "\n",
        "    # Dense Layers\n",
        "    Dense(1024, activation='relu'),\n",
        "    BatchNormalization(),\n",
        "    Dropout(0.6),\n",
        "\n",
        "    # Output Layer\n",
        "    Dense(14, activation='softmax')\n",
        "])\n",
        "\n",
        "# Compile the model\n",
        "model.compile(optimizer='adam', loss='categorical_crossentropy', metrics=['accuracy'])\n",
        "\n",
        "model.summary()"
      ],
      "metadata": {
        "colab": {
          "base_uri": "https://localhost:8080/",
          "height": 684
        },
        "id": "_BRpegRfnVTg",
        "outputId": "4d19112c-bde5-40a6-f96d-b80e826501f5"
      },
      "execution_count": null,
      "outputs": [
        {
          "output_type": "stream",
          "name": "stderr",
          "text": [
            "/usr/local/lib/python3.10/dist-packages/keras/src/layers/convolutional/base_conv.py:107: UserWarning: Do not pass an `input_shape`/`input_dim` argument to a layer. When using Sequential models, prefer using an `Input(shape)` object as the first layer in the model instead.\n",
            "  super().__init__(activity_regularizer=activity_regularizer, **kwargs)\n"
          ]
        },
        {
          "output_type": "display_data",
          "data": {
            "text/plain": [
              "\u001b[1mModel: \"sequential_1\"\u001b[0m\n"
            ],
            "text/html": [
              "<pre style=\"white-space:pre;overflow-x:auto;line-height:normal;font-family:Menlo,'DejaVu Sans Mono',consolas,'Courier New',monospace\"><span style=\"font-weight: bold\">Model: \"sequential_1\"</span>\n",
              "</pre>\n"
            ]
          },
          "metadata": {}
        },
        {
          "output_type": "display_data",
          "data": {
            "text/plain": [
              "┏━━━━━━━━━━━━━━━━━━━━━━━━━━━━━━━━━━━━━━┳━━━━━━━━━━━━━━━━━━━━━━━━━━━━━┳━━━━━━━━━━━━━━━━━┓\n",
              "┃\u001b[1m \u001b[0m\u001b[1mLayer (type)                        \u001b[0m\u001b[1m \u001b[0m┃\u001b[1m \u001b[0m\u001b[1mOutput Shape               \u001b[0m\u001b[1m \u001b[0m┃\u001b[1m \u001b[0m\u001b[1m        Param #\u001b[0m\u001b[1m \u001b[0m┃\n",
              "┡━━━━━━━━━━━━━━━━━━━━━━━━━━━━━━━━━━━━━━╇━━━━━━━━━━━━━━━━━━━━━━━━━━━━━╇━━━━━━━━━━━━━━━━━┩\n",
              "│ conv2d_2 (\u001b[38;5;33mConv2D\u001b[0m)                    │ (\u001b[38;5;45mNone\u001b[0m, \u001b[38;5;34m32\u001b[0m, \u001b[38;5;34m32\u001b[0m, \u001b[38;5;34m64\u001b[0m)          │             \u001b[38;5;34m640\u001b[0m │\n",
              "├──────────────────────────────────────┼─────────────────────────────┼─────────────────┤\n",
              "│ batch_normalization_3                │ (\u001b[38;5;45mNone\u001b[0m, \u001b[38;5;34m32\u001b[0m, \u001b[38;5;34m32\u001b[0m, \u001b[38;5;34m64\u001b[0m)          │             \u001b[38;5;34m256\u001b[0m │\n",
              "│ (\u001b[38;5;33mBatchNormalization\u001b[0m)                 │                             │                 │\n",
              "├──────────────────────────────────────┼─────────────────────────────┼─────────────────┤\n",
              "│ max_pooling2d_2 (\u001b[38;5;33mMaxPooling2D\u001b[0m)       │ (\u001b[38;5;45mNone\u001b[0m, \u001b[38;5;34m16\u001b[0m, \u001b[38;5;34m16\u001b[0m, \u001b[38;5;34m64\u001b[0m)          │               \u001b[38;5;34m0\u001b[0m │\n",
              "├──────────────────────────────────────┼─────────────────────────────┼─────────────────┤\n",
              "│ dropout_3 (\u001b[38;5;33mDropout\u001b[0m)                  │ (\u001b[38;5;45mNone\u001b[0m, \u001b[38;5;34m16\u001b[0m, \u001b[38;5;34m16\u001b[0m, \u001b[38;5;34m64\u001b[0m)          │               \u001b[38;5;34m0\u001b[0m │\n",
              "├──────────────────────────────────────┼─────────────────────────────┼─────────────────┤\n",
              "│ conv2d_3 (\u001b[38;5;33mConv2D\u001b[0m)                    │ (\u001b[38;5;45mNone\u001b[0m, \u001b[38;5;34m16\u001b[0m, \u001b[38;5;34m16\u001b[0m, \u001b[38;5;34m128\u001b[0m)         │          \u001b[38;5;34m73,856\u001b[0m │\n",
              "├──────────────────────────────────────┼─────────────────────────────┼─────────────────┤\n",
              "│ batch_normalization_4                │ (\u001b[38;5;45mNone\u001b[0m, \u001b[38;5;34m16\u001b[0m, \u001b[38;5;34m16\u001b[0m, \u001b[38;5;34m128\u001b[0m)         │             \u001b[38;5;34m512\u001b[0m │\n",
              "│ (\u001b[38;5;33mBatchNormalization\u001b[0m)                 │                             │                 │\n",
              "├──────────────────────────────────────┼─────────────────────────────┼─────────────────┤\n",
              "│ max_pooling2d_3 (\u001b[38;5;33mMaxPooling2D\u001b[0m)       │ (\u001b[38;5;45mNone\u001b[0m, \u001b[38;5;34m8\u001b[0m, \u001b[38;5;34m8\u001b[0m, \u001b[38;5;34m128\u001b[0m)           │               \u001b[38;5;34m0\u001b[0m │\n",
              "├──────────────────────────────────────┼─────────────────────────────┼─────────────────┤\n",
              "│ dropout_4 (\u001b[38;5;33mDropout\u001b[0m)                  │ (\u001b[38;5;45mNone\u001b[0m, \u001b[38;5;34m8\u001b[0m, \u001b[38;5;34m8\u001b[0m, \u001b[38;5;34m128\u001b[0m)           │               \u001b[38;5;34m0\u001b[0m │\n",
              "├──────────────────────────────────────┼─────────────────────────────┼─────────────────┤\n",
              "│ flatten_1 (\u001b[38;5;33mFlatten\u001b[0m)                  │ (\u001b[38;5;45mNone\u001b[0m, \u001b[38;5;34m8192\u001b[0m)                │               \u001b[38;5;34m0\u001b[0m │\n",
              "├──────────────────────────────────────┼─────────────────────────────┼─────────────────┤\n",
              "│ dense_2 (\u001b[38;5;33mDense\u001b[0m)                      │ (\u001b[38;5;45mNone\u001b[0m, \u001b[38;5;34m1024\u001b[0m)                │       \u001b[38;5;34m8,389,632\u001b[0m │\n",
              "├──────────────────────────────────────┼─────────────────────────────┼─────────────────┤\n",
              "│ batch_normalization_5                │ (\u001b[38;5;45mNone\u001b[0m, \u001b[38;5;34m1024\u001b[0m)                │           \u001b[38;5;34m4,096\u001b[0m │\n",
              "│ (\u001b[38;5;33mBatchNormalization\u001b[0m)                 │                             │                 │\n",
              "├──────────────────────────────────────┼─────────────────────────────┼─────────────────┤\n",
              "│ dropout_5 (\u001b[38;5;33mDropout\u001b[0m)                  │ (\u001b[38;5;45mNone\u001b[0m, \u001b[38;5;34m1024\u001b[0m)                │               \u001b[38;5;34m0\u001b[0m │\n",
              "├──────────────────────────────────────┼─────────────────────────────┼─────────────────┤\n",
              "│ dense_3 (\u001b[38;5;33mDense\u001b[0m)                      │ (\u001b[38;5;45mNone\u001b[0m, \u001b[38;5;34m14\u001b[0m)                  │          \u001b[38;5;34m14,350\u001b[0m │\n",
              "└──────────────────────────────────────┴─────────────────────────────┴─────────────────┘\n"
            ],
            "text/html": [
              "<pre style=\"white-space:pre;overflow-x:auto;line-height:normal;font-family:Menlo,'DejaVu Sans Mono',consolas,'Courier New',monospace\">┏━━━━━━━━━━━━━━━━━━━━━━━━━━━━━━━━━━━━━━┳━━━━━━━━━━━━━━━━━━━━━━━━━━━━━┳━━━━━━━━━━━━━━━━━┓\n",
              "┃<span style=\"font-weight: bold\"> Layer (type)                         </span>┃<span style=\"font-weight: bold\"> Output Shape                </span>┃<span style=\"font-weight: bold\">         Param # </span>┃\n",
              "┡━━━━━━━━━━━━━━━━━━━━━━━━━━━━━━━━━━━━━━╇━━━━━━━━━━━━━━━━━━━━━━━━━━━━━╇━━━━━━━━━━━━━━━━━┩\n",
              "│ conv2d_2 (<span style=\"color: #0087ff; text-decoration-color: #0087ff\">Conv2D</span>)                    │ (<span style=\"color: #00d7ff; text-decoration-color: #00d7ff\">None</span>, <span style=\"color: #00af00; text-decoration-color: #00af00\">32</span>, <span style=\"color: #00af00; text-decoration-color: #00af00\">32</span>, <span style=\"color: #00af00; text-decoration-color: #00af00\">64</span>)          │             <span style=\"color: #00af00; text-decoration-color: #00af00\">640</span> │\n",
              "├──────────────────────────────────────┼─────────────────────────────┼─────────────────┤\n",
              "│ batch_normalization_3                │ (<span style=\"color: #00d7ff; text-decoration-color: #00d7ff\">None</span>, <span style=\"color: #00af00; text-decoration-color: #00af00\">32</span>, <span style=\"color: #00af00; text-decoration-color: #00af00\">32</span>, <span style=\"color: #00af00; text-decoration-color: #00af00\">64</span>)          │             <span style=\"color: #00af00; text-decoration-color: #00af00\">256</span> │\n",
              "│ (<span style=\"color: #0087ff; text-decoration-color: #0087ff\">BatchNormalization</span>)                 │                             │                 │\n",
              "├──────────────────────────────────────┼─────────────────────────────┼─────────────────┤\n",
              "│ max_pooling2d_2 (<span style=\"color: #0087ff; text-decoration-color: #0087ff\">MaxPooling2D</span>)       │ (<span style=\"color: #00d7ff; text-decoration-color: #00d7ff\">None</span>, <span style=\"color: #00af00; text-decoration-color: #00af00\">16</span>, <span style=\"color: #00af00; text-decoration-color: #00af00\">16</span>, <span style=\"color: #00af00; text-decoration-color: #00af00\">64</span>)          │               <span style=\"color: #00af00; text-decoration-color: #00af00\">0</span> │\n",
              "├──────────────────────────────────────┼─────────────────────────────┼─────────────────┤\n",
              "│ dropout_3 (<span style=\"color: #0087ff; text-decoration-color: #0087ff\">Dropout</span>)                  │ (<span style=\"color: #00d7ff; text-decoration-color: #00d7ff\">None</span>, <span style=\"color: #00af00; text-decoration-color: #00af00\">16</span>, <span style=\"color: #00af00; text-decoration-color: #00af00\">16</span>, <span style=\"color: #00af00; text-decoration-color: #00af00\">64</span>)          │               <span style=\"color: #00af00; text-decoration-color: #00af00\">0</span> │\n",
              "├──────────────────────────────────────┼─────────────────────────────┼─────────────────┤\n",
              "│ conv2d_3 (<span style=\"color: #0087ff; text-decoration-color: #0087ff\">Conv2D</span>)                    │ (<span style=\"color: #00d7ff; text-decoration-color: #00d7ff\">None</span>, <span style=\"color: #00af00; text-decoration-color: #00af00\">16</span>, <span style=\"color: #00af00; text-decoration-color: #00af00\">16</span>, <span style=\"color: #00af00; text-decoration-color: #00af00\">128</span>)         │          <span style=\"color: #00af00; text-decoration-color: #00af00\">73,856</span> │\n",
              "├──────────────────────────────────────┼─────────────────────────────┼─────────────────┤\n",
              "│ batch_normalization_4                │ (<span style=\"color: #00d7ff; text-decoration-color: #00d7ff\">None</span>, <span style=\"color: #00af00; text-decoration-color: #00af00\">16</span>, <span style=\"color: #00af00; text-decoration-color: #00af00\">16</span>, <span style=\"color: #00af00; text-decoration-color: #00af00\">128</span>)         │             <span style=\"color: #00af00; text-decoration-color: #00af00\">512</span> │\n",
              "│ (<span style=\"color: #0087ff; text-decoration-color: #0087ff\">BatchNormalization</span>)                 │                             │                 │\n",
              "├──────────────────────────────────────┼─────────────────────────────┼─────────────────┤\n",
              "│ max_pooling2d_3 (<span style=\"color: #0087ff; text-decoration-color: #0087ff\">MaxPooling2D</span>)       │ (<span style=\"color: #00d7ff; text-decoration-color: #00d7ff\">None</span>, <span style=\"color: #00af00; text-decoration-color: #00af00\">8</span>, <span style=\"color: #00af00; text-decoration-color: #00af00\">8</span>, <span style=\"color: #00af00; text-decoration-color: #00af00\">128</span>)           │               <span style=\"color: #00af00; text-decoration-color: #00af00\">0</span> │\n",
              "├──────────────────────────────────────┼─────────────────────────────┼─────────────────┤\n",
              "│ dropout_4 (<span style=\"color: #0087ff; text-decoration-color: #0087ff\">Dropout</span>)                  │ (<span style=\"color: #00d7ff; text-decoration-color: #00d7ff\">None</span>, <span style=\"color: #00af00; text-decoration-color: #00af00\">8</span>, <span style=\"color: #00af00; text-decoration-color: #00af00\">8</span>, <span style=\"color: #00af00; text-decoration-color: #00af00\">128</span>)           │               <span style=\"color: #00af00; text-decoration-color: #00af00\">0</span> │\n",
              "├──────────────────────────────────────┼─────────────────────────────┼─────────────────┤\n",
              "│ flatten_1 (<span style=\"color: #0087ff; text-decoration-color: #0087ff\">Flatten</span>)                  │ (<span style=\"color: #00d7ff; text-decoration-color: #00d7ff\">None</span>, <span style=\"color: #00af00; text-decoration-color: #00af00\">8192</span>)                │               <span style=\"color: #00af00; text-decoration-color: #00af00\">0</span> │\n",
              "├──────────────────────────────────────┼─────────────────────────────┼─────────────────┤\n",
              "│ dense_2 (<span style=\"color: #0087ff; text-decoration-color: #0087ff\">Dense</span>)                      │ (<span style=\"color: #00d7ff; text-decoration-color: #00d7ff\">None</span>, <span style=\"color: #00af00; text-decoration-color: #00af00\">1024</span>)                │       <span style=\"color: #00af00; text-decoration-color: #00af00\">8,389,632</span> │\n",
              "├──────────────────────────────────────┼─────────────────────────────┼─────────────────┤\n",
              "│ batch_normalization_5                │ (<span style=\"color: #00d7ff; text-decoration-color: #00d7ff\">None</span>, <span style=\"color: #00af00; text-decoration-color: #00af00\">1024</span>)                │           <span style=\"color: #00af00; text-decoration-color: #00af00\">4,096</span> │\n",
              "│ (<span style=\"color: #0087ff; text-decoration-color: #0087ff\">BatchNormalization</span>)                 │                             │                 │\n",
              "├──────────────────────────────────────┼─────────────────────────────┼─────────────────┤\n",
              "│ dropout_5 (<span style=\"color: #0087ff; text-decoration-color: #0087ff\">Dropout</span>)                  │ (<span style=\"color: #00d7ff; text-decoration-color: #00d7ff\">None</span>, <span style=\"color: #00af00; text-decoration-color: #00af00\">1024</span>)                │               <span style=\"color: #00af00; text-decoration-color: #00af00\">0</span> │\n",
              "├──────────────────────────────────────┼─────────────────────────────┼─────────────────┤\n",
              "│ dense_3 (<span style=\"color: #0087ff; text-decoration-color: #0087ff\">Dense</span>)                      │ (<span style=\"color: #00d7ff; text-decoration-color: #00d7ff\">None</span>, <span style=\"color: #00af00; text-decoration-color: #00af00\">14</span>)                  │          <span style=\"color: #00af00; text-decoration-color: #00af00\">14,350</span> │\n",
              "└──────────────────────────────────────┴─────────────────────────────┴─────────────────┘\n",
              "</pre>\n"
            ]
          },
          "metadata": {}
        },
        {
          "output_type": "display_data",
          "data": {
            "text/plain": [
              "\u001b[1m Total params: \u001b[0m\u001b[38;5;34m8,483,342\u001b[0m (32.36 MB)\n"
            ],
            "text/html": [
              "<pre style=\"white-space:pre;overflow-x:auto;line-height:normal;font-family:Menlo,'DejaVu Sans Mono',consolas,'Courier New',monospace\"><span style=\"font-weight: bold\"> Total params: </span><span style=\"color: #00af00; text-decoration-color: #00af00\">8,483,342</span> (32.36 MB)\n",
              "</pre>\n"
            ]
          },
          "metadata": {}
        },
        {
          "output_type": "display_data",
          "data": {
            "text/plain": [
              "\u001b[1m Trainable params: \u001b[0m\u001b[38;5;34m8,480,910\u001b[0m (32.35 MB)\n"
            ],
            "text/html": [
              "<pre style=\"white-space:pre;overflow-x:auto;line-height:normal;font-family:Menlo,'DejaVu Sans Mono',consolas,'Courier New',monospace\"><span style=\"font-weight: bold\"> Trainable params: </span><span style=\"color: #00af00; text-decoration-color: #00af00\">8,480,910</span> (32.35 MB)\n",
              "</pre>\n"
            ]
          },
          "metadata": {}
        },
        {
          "output_type": "display_data",
          "data": {
            "text/plain": [
              "\u001b[1m Non-trainable params: \u001b[0m\u001b[38;5;34m2,432\u001b[0m (9.50 KB)\n"
            ],
            "text/html": [
              "<pre style=\"white-space:pre;overflow-x:auto;line-height:normal;font-family:Menlo,'DejaVu Sans Mono',consolas,'Courier New',monospace\"><span style=\"font-weight: bold\"> Non-trainable params: </span><span style=\"color: #00af00; text-decoration-color: #00af00\">2,432</span> (9.50 KB)\n",
              "</pre>\n"
            ]
          },
          "metadata": {}
        }
      ]
    },
    {
      "cell_type": "markdown",
      "source": [
        "# Here is a detailed note on the model architecture:\n",
        "## Sequential\n",
        "A Sequential model refers to a neural network architecture where the layers are added in a sequential order. This means the output of one layer becomes the input of the next. It's called \"sequential\" because the data flows from the first layer to the last one without skipping or branching.\n",
        "\n",
        "* ### First Convolutional Block:\n",
        " * 64: This is the number of filters (or feature maps). It defines how many different features the network should learn during this layer. The higher the number of filters, the more features the network learns, but it also increases computational complexity.\n",
        " * (3, 3): This is the size of the filter/kernel. The filter slides over the input image to perform convolution and extract features. A (3, 3) kernel means the filter is 3 pixels wide and 3 pixels tall.\n",
        "\n",
        " * activation='relu': ReLU (Rectified Linear Unit) is the activation function applied to the output of the convolution. It helps introduce non-linearity, which allows the network to learn complex patterns. ReLU is commonly used in CNNs because it helps introduce non-linearity to the model, which allows it to learn more complex patterns. The ReLU function sets all negative values to zero and keeps positive values unchanged.\n",
        "\n",
        " * padding='same': This padding option ensures that the output of the convolution layer has the same spatial dimensions as the input. Essentially, the filter is applied in such a way that it keeps the input size unchanged.\n",
        "input_shape=(32, 32, 1): This defines the shape of the input data. The images are assumed to be 32x32 pixels and grayscale (1 channel). If the images were RGB, this would be (32, 32, 3).\n",
        "\n",
        " * BatchNormalization():\n",
        "This layer normalizes the activations in the previous layer. It standardizes the inputs to a layer for each mini-batch, helping with faster training and reducing the chances of getting stuck in local minima. It helps stabilize and speed up the learning process.\n",
        "\n",
        " * MaxPooling2D((2, 2)):\n",
        "This is a max-pooling layer that reduces the spatial dimensions (height and width) of the input. In this case, it performs a 2x2 pooling operation, which means it reduces the width and height of the feature map by a factor of 2. This operation keeps only the maximum value in each 2x2 grid, effectively downsampling the image while retaining important features.\n",
        "\n",
        " * Dropout(0.3):This layer randomly drops 30% of the neurons during training to prevent overfitting. By dropping connections randomly, the model is forced to generalize better, as it cannot rely too heavily on any one neuron.\n",
        "\n",
        "* ### Second Convolutional Block:\n",
        "\n",
        " * Conv2D(128, (3, 3), activation='relu', padding='same'):\n",
        "This layer is similar to the first convolutional layer, but with 128 filters instead of 64, allowing the network to learn more complex features at this stage.\n",
        "\n",
        " * BatchNormalization() and MaxPooling2D((2, 2)): These layers are identical to those in the first block, again normalizing the activations and performing max-pooling.\n",
        "\n",
        " * Dropout(0.3): Again, a dropout layer is added after the second convolutional block to prevent overfitting. 30% of neurons will be dropped.\n",
        "\n",
        "* ### Flattening Layer:\n",
        " * Flatten(): After the convolutional and pooling layers, the data is still in the form of 2D feature maps. The Flatten() layer converts this 2D data into a 1D vector, making it compatible for the dense (fully connected) layers that follow. Essentially, it \"flattens\" the entire feature map into a single long vector.\n",
        "\n",
        "* ### Dense Layers:\n",
        " * Dense(1024, activation='relu'): This is a fully connected layer with 1024 neurons. The number of neurons in the dense layer determines the number of features or hidden units the model has to work with.\n",
        "The ReLU activation is applied to introduce non-linearity to the output of this layer.\n",
        "\n",
        " * BatchNormalization(): As with previous blocks, batch normalization is applied to this dense layer to stabilize and accelerate training.\n",
        "\n",
        " * Dropout(0.6): A dropout rate of 60% is applied to this layer, meaning 60% of the neurons in this layer will be randomly dropped during training to help prevent overfitting. This is a higher dropout rate, as dense layers are prone to overfitting due to their high number of parameters.\n",
        "\n",
        "* ### Output Layer:\n",
        " * Dense(14, activation='softmax'): This is the output layer, where the network produces the final predictions.\n",
        "14 represents the number of output classes (in this case, 14 classes). This is the final layer of the network, and its size matches the number of possible output classes for classification.\n",
        "\n",
        " * softmax activation: The softmax function converts the output logits (raw predictions) into probabilities. It squashes the outputs into a range between 0 and 1, and the sum of all the probabilities equals 1. This is ideal for multi-class classification problems.\n",
        "\n",
        "## Compiling the Model:\n",
        "* optimizer='adam': This specifies the Adam optimizer, which is an adaptive optimization algorithm that combines the advantages of two other popular optimizers: AdaGrad and RMSProp. It adapts the learning rate based on the gradients of the parameters and helps with faster convergence.\n",
        "\n",
        "* loss='categorical_crossentropy': This is the loss function used for multi-class classification problems. Categorical cross-entropy measures the difference between the true class labels and the predicted probabilities (from softmax) and penalizes the model for incorrect predictions.\n",
        "\n",
        "* metrics=['accuracy']: This defines the metric used to evaluate the model's performance during training. In this case, accuracy is used, which measures the percentage of correct predictions."
      ],
      "metadata": {
        "id": "3qV_Je4EwJOR"
      }
    },
    {
      "cell_type": "markdown",
      "source": [
        "### Defining Callbacks\n",
        "\n",
        "1. Learning Rate Scheduler (step_decay):\n",
        "This function adjusts the learning rate at specified intervals. It’s defined to gradually reduce the learning rate as the training progresses, helping the model converge better. Lowering the learning rate in steps often helps stabilize the model’s performance by allowing smaller adjustments as training progresses.\n",
        "\n",
        "\n",
        "\n",
        "2. Model Checkpoint (ModelCheckpoint):\n",
        "This callback saves the model at regular intervals, specifically saving only the \"best\" model (determined by validation loss) during training. Using save_best_only=True with monitor='val_loss' ensures that only the model with the lowest validation loss is saved. This is helpful in retaining a model version with optimal generalization performance.\n",
        "\n",
        "\n",
        "\n",
        "3. Early Stopping (EarlyStopping):\n",
        "This callback stops training when the model’s performance on the validation set stops improving. It monitors the val_loss and will halt training if there’s no improvement after a certain patience period. This helps prevent overfitting by stopping the training process before the model starts to memorize the training data.\n",
        "\n",
        "\n",
        "\n",
        "4. Reduce Learning Rate on Plateau (ReduceLROnPlateau):\n",
        "This callback reduces the learning rate automatically when a metric (usually validation loss) stops improving for a specified number of epochs. By adjusting the learning rate dynamically based on performance, it allows the model to make finer adjustments when it reaches a plateau, helping it converge more effectively."
      ],
      "metadata": {
        "id": "6P1bSZzCt2p-"
      }
    },
    {
      "cell_type": "code",
      "source": [
        "from tensorflow.keras.callbacks import LearningRateScheduler, ModelCheckpoint, EarlyStopping, ReduceLROnPlateau\n",
        "\n",
        "# Define Callbacks\n",
        "# 1. Step Decay Learning Rate Scheduler\n",
        "def step_decay(epoch):\n",
        "    initial_lr = 0.001\n",
        "    drop_rate = 0.5\n",
        "    epochs_drop = 10\n",
        "    lr = initial_lr * (drop_rate ** (epoch // epochs_drop))\n",
        "    return lr\n",
        "\n",
        "lr_scheduler = LearningRateScheduler(step_decay)\n",
        "\n",
        "# 2. Model Checkpoint\n",
        "checkpoint = ModelCheckpoint(\n",
        "    'HandwrittenMathsmodel.keras', monitor='val_accuracy', save_best_only=True, mode='max', verbose=1\n",
        ")\n",
        "\n",
        "# 3. Early Stopping\n",
        "early_stopping = EarlyStopping(\n",
        "    monitor='val_accuracy', patience=15, restore_best_weights=True, verbose=1\n",
        ")\n",
        "\n",
        "# 4. Reduce Learning Rate on Plateau\n",
        "reduce_lr = ReduceLROnPlateau(\n",
        "    monitor='val_accuracy', factor=0.2, patience=6, min_lr=0.0001, verbose=1\n",
        ")\n",
        "\n",
        "# Combine Callbacks\n",
        "callbacks = [lr_scheduler, checkpoint, early_stopping, reduce_lr]"
      ],
      "metadata": {
        "id": "NwclGRoZt15P"
      },
      "execution_count": null,
      "outputs": []
    },
    {
      "cell_type": "markdown",
      "source": [
        "### Augmenting images"
      ],
      "metadata": {
        "id": "lBVqthMCwL4F"
      }
    },
    {
      "cell_type": "code",
      "source": [
        "from tensorflow.keras.preprocessing.image import ImageDataGenerator\n",
        "\n",
        "# Define ImageDataGenerator with minimal augmentations\n",
        "datagen = ImageDataGenerator(\n",
        "    zoom_range=0.15,             # Small zoom\n",
        "    rotation_range=8,           # Small rotation\n",
        "    width_shift_range=0.08,     # Small horizontal shift\n",
        "    height_shift_range=0.08     # Small vertical shift\n",
        ")\n"
      ],
      "metadata": {
        "id": "Pj2W97Qkr4ZQ"
      },
      "execution_count": null,
      "outputs": []
    },
    {
      "cell_type": "markdown",
      "source": [
        "## Model training and saving:"
      ],
      "metadata": {
        "id": "aT3joeZxwhzW"
      }
    },
    {
      "cell_type": "code",
      "source": [
        "# Using augmented data in model training\n",
        "history = model.fit(\n",
        "    datagen.flow(X_train_reshaped, y_train_encoded, batch_size=32),\n",
        "    validation_data=(X_test_reshaped, y_test_encoded),\n",
        "    steps_per_epoch=len(X_train) // 32,\n",
        "    epochs=100,\n",
        "    callbacks=callbacks\n",
        ")\n",
        "\n",
        "#Saving the model\n",
        "model.save('HandwrittenMathsmodel.keras')"
      ],
      "metadata": {
        "colab": {
          "base_uri": "https://localhost:8080/"
        },
        "id": "Peck1kwgwc87",
        "outputId": "d621ded8-4c96-428b-f1ac-a7fc8780c370"
      },
      "execution_count": null,
      "outputs": [
        {
          "output_type": "stream",
          "name": "stdout",
          "text": [
            "Epoch 1/100\n",
            "\u001b[1m172/178\u001b[0m \u001b[32m━━━━━━━━━━━━━━━━━━━\u001b[0m\u001b[37m━\u001b[0m \u001b[1m0s\u001b[0m 19ms/step - accuracy: 0.8002 - loss: 0.6867\n",
            "Epoch 1: val_accuracy improved from -inf to 0.84211, saving model to HandwrittenMathsmodel.keras\n",
            "\u001b[1m178/178\u001b[0m \u001b[32m━━━━━━━━━━━━━━━━━━━━\u001b[0m\u001b[37m\u001b[0m \u001b[1m4s\u001b[0m 24ms/step - accuracy: 0.8007 - loss: 0.6844 - val_accuracy: 0.8421 - val_loss: 0.6145 - learning_rate: 0.0010\n",
            "Epoch 2/100\n",
            "\u001b[1m  1/178\u001b[0m \u001b[37m━━━━━━━━━━━━━━━━━━━━\u001b[0m \u001b[1m1s\u001b[0m 9ms/step - accuracy: 0.8750 - loss: 0.5675\n",
            "Epoch 2: val_accuracy did not improve from 0.84211\n",
            "\u001b[1m178/178\u001b[0m \u001b[32m━━━━━━━━━━━━━━━━━━━━\u001b[0m\u001b[37m\u001b[0m \u001b[1m0s\u001b[0m 505us/step - accuracy: 0.8750 - loss: 0.5675 - val_accuracy: 0.8326 - val_loss: 0.6599 - learning_rate: 0.0010\n",
            "Epoch 3/100\n",
            "\u001b[1m178/178\u001b[0m \u001b[32m━━━━━━━━━━━━━━━━━━━━\u001b[0m\u001b[37m\u001b[0m \u001b[1m0s\u001b[0m 13ms/step - accuracy: 0.8315 - loss: 0.5565\n",
            "Epoch 3: val_accuracy did not improve from 0.84211\n",
            "\u001b[1m178/178\u001b[0m \u001b[32m━━━━━━━━━━━━━━━━━━━━\u001b[0m\u001b[37m\u001b[0m \u001b[1m3s\u001b[0m 14ms/step - accuracy: 0.8316 - loss: 0.5563 - val_accuracy: 0.5105 - val_loss: 3.4002 - learning_rate: 0.0010\n",
            "Epoch 4/100\n",
            "\u001b[1m  1/178\u001b[0m \u001b[37m━━━━━━━━━━━━━━━━━━━━\u001b[0m \u001b[1m1s\u001b[0m 8ms/step - accuracy: 0.8125 - loss: 0.5459\n",
            "Epoch 4: val_accuracy did not improve from 0.84211\n",
            "\u001b[1m178/178\u001b[0m \u001b[32m━━━━━━━━━━━━━━━━━━━━\u001b[0m\u001b[37m\u001b[0m \u001b[1m0s\u001b[0m 932us/step - accuracy: 0.8125 - loss: 0.5459 - val_accuracy: 0.5032 - val_loss: 3.7123 - learning_rate: 0.0010\n",
            "Epoch 5/100\n",
            "\u001b[1m173/178\u001b[0m \u001b[32m━━━━━━━━━━━━━━━━━━━\u001b[0m\u001b[37m━\u001b[0m \u001b[1m0s\u001b[0m 13ms/step - accuracy: 0.8614 - loss: 0.4715\n",
            "Epoch 5: val_accuracy improved from 0.84211 to 0.89474, saving model to HandwrittenMathsmodel.keras\n",
            "\u001b[1m178/178\u001b[0m \u001b[32m━━━━━━━━━━━━━━━━━━━━\u001b[0m\u001b[37m\u001b[0m \u001b[1m3s\u001b[0m 18ms/step - accuracy: 0.8614 - loss: 0.4715 - val_accuracy: 0.8947 - val_loss: 0.3270 - learning_rate: 0.0010\n",
            "Epoch 6/100\n",
            "\u001b[1m  1/178\u001b[0m \u001b[37m━━━━━━━━━━━━━━━━━━━━\u001b[0m \u001b[1m1s\u001b[0m 9ms/step - accuracy: 0.8750 - loss: 0.4231\n",
            "Epoch 6: val_accuracy improved from 0.89474 to 0.91053, saving model to HandwrittenMathsmodel.keras\n",
            "\u001b[1m178/178\u001b[0m \u001b[32m━━━━━━━━━━━━━━━━━━━━\u001b[0m\u001b[37m\u001b[0m \u001b[1m1s\u001b[0m 4ms/step - accuracy: 0.8750 - loss: 0.4231 - val_accuracy: 0.9105 - val_loss: 0.3061 - learning_rate: 0.0010\n",
            "Epoch 7/100\n",
            "\u001b[1m172/178\u001b[0m \u001b[32m━━━━━━━━━━━━━━━━━━━\u001b[0m\u001b[37m━\u001b[0m \u001b[1m0s\u001b[0m 21ms/step - accuracy: 0.8699 - loss: 0.4240\n",
            "Epoch 7: val_accuracy did not improve from 0.91053\n",
            "\u001b[1m178/178\u001b[0m \u001b[32m━━━━━━━━━━━━━━━━━━━━\u001b[0m\u001b[37m\u001b[0m \u001b[1m5s\u001b[0m 21ms/step - accuracy: 0.8697 - loss: 0.4245 - val_accuracy: 0.3800 - val_loss: 3.9012 - learning_rate: 0.0010\n",
            "Epoch 8/100\n",
            "\u001b[1m  1/178\u001b[0m \u001b[37m━━━━━━━━━━━━━━━━━━━━\u001b[0m \u001b[1m1s\u001b[0m 10ms/step - accuracy: 0.8750 - loss: 0.4702\n",
            "Epoch 8: val_accuracy did not improve from 0.91053\n",
            "\u001b[1m178/178\u001b[0m \u001b[32m━━━━━━━━━━━━━━━━━━━━\u001b[0m\u001b[37m\u001b[0m \u001b[1m0s\u001b[0m 676us/step - accuracy: 0.8750 - loss: 0.4702 - val_accuracy: 0.4000 - val_loss: 3.5249 - learning_rate: 0.0010\n",
            "Epoch 9/100\n",
            "\u001b[1m177/178\u001b[0m \u001b[32m━━━━━━━━━━━━━━━━━━━\u001b[0m\u001b[37m━\u001b[0m \u001b[1m0s\u001b[0m 13ms/step - accuracy: 0.8875 - loss: 0.3712\n",
            "Epoch 9: val_accuracy did not improve from 0.91053\n",
            "\u001b[1m178/178\u001b[0m \u001b[32m━━━━━━━━━━━━━━━━━━━━\u001b[0m\u001b[37m\u001b[0m \u001b[1m3s\u001b[0m 14ms/step - accuracy: 0.8874 - loss: 0.3716 - val_accuracy: 0.7768 - val_loss: 0.8406 - learning_rate: 0.0010\n",
            "Epoch 10/100\n",
            "\u001b[1m  1/178\u001b[0m \u001b[37m━━━━━━━━━━━━━━━━━━━━\u001b[0m \u001b[1m1s\u001b[0m 8ms/step - accuracy: 0.8750 - loss: 0.4874\n",
            "Epoch 10: val_accuracy did not improve from 0.91053\n",
            "\u001b[1m178/178\u001b[0m \u001b[32m━━━━━━━━━━━━━━━━━━━━\u001b[0m\u001b[37m\u001b[0m \u001b[1m0s\u001b[0m 496us/step - accuracy: 0.8750 - loss: 0.4874 - val_accuracy: 0.7758 - val_loss: 0.8399 - learning_rate: 0.0010\n",
            "Epoch 11/100\n",
            "\u001b[1m172/178\u001b[0m \u001b[32m━━━━━━━━━━━━━━━━━━━\u001b[0m\u001b[37m━\u001b[0m \u001b[1m0s\u001b[0m 13ms/step - accuracy: 0.8824 - loss: 0.3821\n",
            "Epoch 11: val_accuracy did not improve from 0.91053\n",
            "\u001b[1m178/178\u001b[0m \u001b[32m━━━━━━━━━━━━━━━━━━━━\u001b[0m\u001b[37m\u001b[0m \u001b[1m5s\u001b[0m 14ms/step - accuracy: 0.8824 - loss: 0.3822 - val_accuracy: 0.5642 - val_loss: 4.5433 - learning_rate: 5.0000e-04\n",
            "Epoch 12/100\n",
            "\u001b[1m  1/178\u001b[0m \u001b[37m━━━━━━━━━━━━━━━━━━━━\u001b[0m \u001b[1m1s\u001b[0m 8ms/step - accuracy: 0.9375 - loss: 0.2533\n",
            "Epoch 12: val_accuracy did not improve from 0.91053\n",
            "\n",
            "Epoch 12: ReduceLROnPlateau reducing learning rate to 0.00010000000474974513.\n",
            "\u001b[1m178/178\u001b[0m \u001b[32m━━━━━━━━━━━━━━━━━━━━\u001b[0m\u001b[37m\u001b[0m \u001b[1m0s\u001b[0m 502us/step - accuracy: 0.9375 - loss: 0.2533 - val_accuracy: 0.5526 - val_loss: 4.7899 - learning_rate: 5.0000e-04\n",
            "Epoch 13/100\n",
            "\u001b[1m177/178\u001b[0m \u001b[32m━━━━━━━━━━━━━━━━━━━\u001b[0m\u001b[37m━\u001b[0m \u001b[1m0s\u001b[0m 14ms/step - accuracy: 0.8988 - loss: 0.3430\n",
            "Epoch 13: val_accuracy did not improve from 0.91053\n",
            "\u001b[1m178/178\u001b[0m \u001b[32m━━━━━━━━━━━━━━━━━━━━\u001b[0m\u001b[37m\u001b[0m \u001b[1m3s\u001b[0m 15ms/step - accuracy: 0.8988 - loss: 0.3430 - val_accuracy: 0.9000 - val_loss: 0.3571 - learning_rate: 5.0000e-04\n",
            "Epoch 14/100\n",
            "\u001b[1m  1/178\u001b[0m \u001b[37m━━━━━━━━━━━━━━━━━━━━\u001b[0m \u001b[1m1s\u001b[0m 9ms/step - accuracy: 0.9062 - loss: 0.2648\n",
            "Epoch 14: val_accuracy did not improve from 0.91053\n",
            "\u001b[1m178/178\u001b[0m \u001b[32m━━━━━━━━━━━━━━━━━━━━\u001b[0m\u001b[37m\u001b[0m \u001b[1m0s\u001b[0m 1ms/step - accuracy: 0.9062 - loss: 0.2648 - val_accuracy: 0.8874 - val_loss: 0.3809 - learning_rate: 5.0000e-04\n",
            "Epoch 15/100\n",
            "\u001b[1m175/178\u001b[0m \u001b[32m━━━━━━━━━━━━━━━━━━━\u001b[0m\u001b[37m━\u001b[0m \u001b[1m0s\u001b[0m 14ms/step - accuracy: 0.8977 - loss: 0.3299\n",
            "Epoch 15: val_accuracy improved from 0.91053 to 0.95263, saving model to HandwrittenMathsmodel.keras\n",
            "\u001b[1m178/178\u001b[0m \u001b[32m━━━━━━━━━━━━━━━━━━━━\u001b[0m\u001b[37m\u001b[0m \u001b[1m5s\u001b[0m 18ms/step - accuracy: 0.8978 - loss: 0.3296 - val_accuracy: 0.9526 - val_loss: 0.2000 - learning_rate: 5.0000e-04\n",
            "Epoch 16/100\n",
            "\u001b[1m  1/178\u001b[0m \u001b[37m━━━━━━━━━━━━━━━━━━━━\u001b[0m \u001b[1m1s\u001b[0m 9ms/step - accuracy: 0.8750 - loss: 0.4321\n",
            "Epoch 16: val_accuracy did not improve from 0.95263\n",
            "\u001b[1m178/178\u001b[0m \u001b[32m━━━━━━━━━━━━━━━━━━━━\u001b[0m\u001b[37m\u001b[0m \u001b[1m0s\u001b[0m 489us/step - accuracy: 0.8750 - loss: 0.4321 - val_accuracy: 0.9516 - val_loss: 0.1985 - learning_rate: 5.0000e-04\n",
            "Epoch 17/100\n",
            "\u001b[1m174/178\u001b[0m \u001b[32m━━━━━━━━━━━━━━━━━━━\u001b[0m\u001b[37m━\u001b[0m \u001b[1m0s\u001b[0m 13ms/step - accuracy: 0.9061 - loss: 0.2956\n",
            "Epoch 17: val_accuracy did not improve from 0.95263\n",
            "\u001b[1m178/178\u001b[0m \u001b[32m━━━━━━━━━━━━━━━━━━━━\u001b[0m\u001b[37m\u001b[0m \u001b[1m4s\u001b[0m 14ms/step - accuracy: 0.9062 - loss: 0.2957 - val_accuracy: 0.7274 - val_loss: 1.1234 - learning_rate: 5.0000e-04\n",
            "Epoch 18/100\n",
            "\u001b[1m  1/178\u001b[0m \u001b[37m━━━━━━━━━━━━━━━━━━━━\u001b[0m \u001b[1m1s\u001b[0m 8ms/step - accuracy: 0.8438 - loss: 0.5424\n",
            "Epoch 18: val_accuracy did not improve from 0.95263\n",
            "\u001b[1m178/178\u001b[0m \u001b[32m━━━━━━━━━━━━━━━━━━━━\u001b[0m\u001b[37m\u001b[0m \u001b[1m0s\u001b[0m 468us/step - accuracy: 0.8438 - loss: 0.5424 - val_accuracy: 0.7621 - val_loss: 1.0351 - learning_rate: 5.0000e-04\n",
            "Epoch 19/100\n",
            "\u001b[1m175/178\u001b[0m \u001b[32m━━━━━━━━━━━━━━━━━━━\u001b[0m\u001b[37m━\u001b[0m \u001b[1m0s\u001b[0m 15ms/step - accuracy: 0.9032 - loss: 0.2989\n",
            "Epoch 19: val_accuracy did not improve from 0.95263\n",
            "\u001b[1m178/178\u001b[0m \u001b[32m━━━━━━━━━━━━━━━━━━━━\u001b[0m\u001b[37m\u001b[0m \u001b[1m3s\u001b[0m 15ms/step - accuracy: 0.9032 - loss: 0.2991 - val_accuracy: 0.3579 - val_loss: 4.0910 - learning_rate: 5.0000e-04\n",
            "Epoch 20/100\n",
            "\u001b[1m  1/178\u001b[0m \u001b[37m━━━━━━━━━━━━━━━━━━━━\u001b[0m \u001b[1m1s\u001b[0m 9ms/step - accuracy: 0.8438 - loss: 0.5018\n",
            "Epoch 20: val_accuracy did not improve from 0.95263\n",
            "\u001b[1m178/178\u001b[0m \u001b[32m━━━━━━━━━━━━━━━━━━━━\u001b[0m\u001b[37m\u001b[0m \u001b[1m0s\u001b[0m 994us/step - accuracy: 0.8438 - loss: 0.5018 - val_accuracy: 0.3621 - val_loss: 3.9860 - learning_rate: 5.0000e-04\n",
            "Epoch 21/100\n",
            "\u001b[1m174/178\u001b[0m \u001b[32m━━━━━━━━━━━━━━━━━━━\u001b[0m\u001b[37m━\u001b[0m \u001b[1m0s\u001b[0m 13ms/step - accuracy: 0.9140 - loss: 0.2861\n",
            "Epoch 21: val_accuracy did not improve from 0.95263\n",
            "\n",
            "Epoch 21: ReduceLROnPlateau reducing learning rate to 0.0001.\n",
            "\u001b[1m178/178\u001b[0m \u001b[32m━━━━━━━━━━━━━━━━━━━━\u001b[0m\u001b[37m\u001b[0m \u001b[1m5s\u001b[0m 14ms/step - accuracy: 0.9140 - loss: 0.2860 - val_accuracy: 0.9453 - val_loss: 0.1856 - learning_rate: 2.5000e-04\n",
            "Epoch 22/100\n",
            "\u001b[1m  1/178\u001b[0m \u001b[37m━━━━━━━━━━━━━━━━━━━━\u001b[0m \u001b[1m1s\u001b[0m 8ms/step - accuracy: 0.8750 - loss: 0.4714\n",
            "Epoch 22: val_accuracy did not improve from 0.95263\n",
            "\u001b[1m178/178\u001b[0m \u001b[32m━━━━━━━━━━━━━━━━━━━━\u001b[0m\u001b[37m\u001b[0m \u001b[1m0s\u001b[0m 488us/step - accuracy: 0.8750 - loss: 0.4714 - val_accuracy: 0.9484 - val_loss: 0.1841 - learning_rate: 2.5000e-04\n",
            "Epoch 23/100\n",
            "\u001b[1m171/178\u001b[0m \u001b[32m━━━━━━━━━━━━━━━━━━━\u001b[0m\u001b[37m━\u001b[0m \u001b[1m0s\u001b[0m 13ms/step - accuracy: 0.9208 - loss: 0.2576\n",
            "Epoch 23: val_accuracy improved from 0.95263 to 0.95474, saving model to HandwrittenMathsmodel.keras\n",
            "\u001b[1m178/178\u001b[0m \u001b[32m━━━━━━━━━━━━━━━━━━━━\u001b[0m\u001b[37m\u001b[0m \u001b[1m3s\u001b[0m 17ms/step - accuracy: 0.9208 - loss: 0.2578 - val_accuracy: 0.9547 - val_loss: 0.1731 - learning_rate: 2.5000e-04\n",
            "Epoch 24/100\n",
            "\u001b[1m  1/178\u001b[0m \u001b[37m━━━━━━━━━━━━━━━━━━━━\u001b[0m \u001b[1m1s\u001b[0m 9ms/step - accuracy: 0.9062 - loss: 0.2288\n",
            "Epoch 24: val_accuracy did not improve from 0.95474\n",
            "\u001b[1m178/178\u001b[0m \u001b[32m━━━━━━━━━━━━━━━━━━━━\u001b[0m\u001b[37m\u001b[0m \u001b[1m0s\u001b[0m 533us/step - accuracy: 0.9062 - loss: 0.2288 - val_accuracy: 0.9547 - val_loss: 0.1780 - learning_rate: 2.5000e-04\n",
            "Epoch 25/100\n",
            "\u001b[1m175/178\u001b[0m \u001b[32m━━━━━━━━━━━━━━━━━━━\u001b[0m\u001b[37m━\u001b[0m \u001b[1m0s\u001b[0m 15ms/step - accuracy: 0.9212 - loss: 0.2602\n",
            "Epoch 25: val_accuracy did not improve from 0.95474\n",
            "\u001b[1m178/178\u001b[0m \u001b[32m━━━━━━━━━━━━━━━━━━━━\u001b[0m\u001b[37m\u001b[0m \u001b[1m5s\u001b[0m 16ms/step - accuracy: 0.9213 - loss: 0.2601 - val_accuracy: 0.9105 - val_loss: 0.3793 - learning_rate: 2.5000e-04\n",
            "Epoch 26/100\n",
            "\u001b[1m  1/178\u001b[0m \u001b[37m━━━━━━━━━━━━━━━━━━━━\u001b[0m \u001b[1m1s\u001b[0m 9ms/step - accuracy: 0.9375 - loss: 0.1407\n",
            "Epoch 26: val_accuracy did not improve from 0.95474\n",
            "\u001b[1m178/178\u001b[0m \u001b[32m━━━━━━━━━━━━━━━━━━━━\u001b[0m\u001b[37m\u001b[0m \u001b[1m0s\u001b[0m 1ms/step - accuracy: 0.9375 - loss: 0.1407 - val_accuracy: 0.9011 - val_loss: 0.4342 - learning_rate: 2.5000e-04\n",
            "Epoch 27/100\n",
            "\u001b[1m172/178\u001b[0m \u001b[32m━━━━━━━━━━━━━━━━━━━\u001b[0m\u001b[37m━\u001b[0m \u001b[1m0s\u001b[0m 14ms/step - accuracy: 0.9230 - loss: 0.2319\n",
            "Epoch 27: val_accuracy did not improve from 0.95474\n",
            "\u001b[1m178/178\u001b[0m \u001b[32m━━━━━━━━━━━━━━━━━━━━\u001b[0m\u001b[37m\u001b[0m \u001b[1m5s\u001b[0m 14ms/step - accuracy: 0.9231 - loss: 0.2323 - val_accuracy: 0.9547 - val_loss: 0.1616 - learning_rate: 2.5000e-04\n",
            "Epoch 28/100\n",
            "\u001b[1m  1/178\u001b[0m \u001b[37m━━━━━━━━━━━━━━━━━━━━\u001b[0m \u001b[1m1s\u001b[0m 9ms/step - accuracy: 0.8750 - loss: 0.3951\n",
            "Epoch 28: val_accuracy did not improve from 0.95474\n",
            "\u001b[1m178/178\u001b[0m \u001b[32m━━━━━━━━━━━━━━━━━━━━\u001b[0m\u001b[37m\u001b[0m \u001b[1m0s\u001b[0m 1ms/step - accuracy: 0.8750 - loss: 0.3951 - val_accuracy: 0.9547 - val_loss: 0.1592 - learning_rate: 2.5000e-04\n",
            "Epoch 29/100\n",
            "\u001b[1m176/178\u001b[0m \u001b[32m━━━━━━━━━━━━━━━━━━━\u001b[0m\u001b[37m━\u001b[0m \u001b[1m0s\u001b[0m 14ms/step - accuracy: 0.9237 - loss: 0.2412\n",
            "Epoch 29: val_accuracy did not improve from 0.95474\n",
            "\n",
            "Epoch 29: ReduceLROnPlateau reducing learning rate to 0.0001.\n",
            "\u001b[1m178/178\u001b[0m \u001b[32m━━━━━━━━━━━━━━━━━━━━\u001b[0m\u001b[37m\u001b[0m \u001b[1m3s\u001b[0m 14ms/step - accuracy: 0.9237 - loss: 0.2412 - val_accuracy: 0.9495 - val_loss: 0.1857 - learning_rate: 2.5000e-04\n",
            "Epoch 30/100\n",
            "\u001b[1m  1/178\u001b[0m \u001b[37m━━━━━━━━━━━━━━━━━━━━\u001b[0m \u001b[1m1s\u001b[0m 8ms/step - accuracy: 0.9062 - loss: 0.2232\n",
            "Epoch 30: val_accuracy did not improve from 0.95474\n",
            "\u001b[1m178/178\u001b[0m \u001b[32m━━━━━━━━━━━━━━━━━━━━\u001b[0m\u001b[37m\u001b[0m \u001b[1m0s\u001b[0m 487us/step - accuracy: 0.9062 - loss: 0.2232 - val_accuracy: 0.9505 - val_loss: 0.1861 - learning_rate: 2.5000e-04\n",
            "Epoch 31/100\n",
            "\u001b[1m172/178\u001b[0m \u001b[32m━━━━━━━━━━━━━━━━━━━\u001b[0m\u001b[37m━\u001b[0m \u001b[1m0s\u001b[0m 16ms/step - accuracy: 0.9297 - loss: 0.2242\n",
            "Epoch 31: val_accuracy did not improve from 0.95474\n",
            "\u001b[1m178/178\u001b[0m \u001b[32m━━━━━━━━━━━━━━━━━━━━\u001b[0m\u001b[37m\u001b[0m \u001b[1m5s\u001b[0m 16ms/step - accuracy: 0.9296 - loss: 0.2247 - val_accuracy: 0.9547 - val_loss: 0.1691 - learning_rate: 1.2500e-04\n",
            "Epoch 32/100\n",
            "\u001b[1m  1/178\u001b[0m \u001b[37m━━━━━━━━━━━━━━━━━━━━\u001b[0m \u001b[1m1s\u001b[0m 8ms/step - accuracy: 0.9062 - loss: 0.2943\n",
            "Epoch 32: val_accuracy did not improve from 0.95474\n",
            "\u001b[1m178/178\u001b[0m \u001b[32m━━━━━━━━━━━━━━━━━━━━\u001b[0m\u001b[37m\u001b[0m \u001b[1m0s\u001b[0m 697us/step - accuracy: 0.9062 - loss: 0.2943 - val_accuracy: 0.9537 - val_loss: 0.1705 - learning_rate: 1.2500e-04\n",
            "Epoch 33/100\n",
            "\u001b[1m174/178\u001b[0m \u001b[32m━━━━━━━━━━━━━━━━━━━\u001b[0m\u001b[37m━\u001b[0m \u001b[1m0s\u001b[0m 13ms/step - accuracy: 0.9295 - loss: 0.2321\n",
            "Epoch 33: val_accuracy improved from 0.95474 to 0.96000, saving model to HandwrittenMathsmodel.keras\n",
            "\u001b[1m178/178\u001b[0m \u001b[32m━━━━━━━━━━━━━━━━━━━━\u001b[0m\u001b[37m\u001b[0m \u001b[1m5s\u001b[0m 18ms/step - accuracy: 0.9296 - loss: 0.2318 - val_accuracy: 0.9600 - val_loss: 0.1447 - learning_rate: 1.2500e-04\n",
            "Epoch 34/100\n",
            "\u001b[1m  1/178\u001b[0m \u001b[37m━━━━━━━━━━━━━━━━━━━━\u001b[0m \u001b[1m1s\u001b[0m 9ms/step - accuracy: 1.0000 - loss: 0.0562\n",
            "Epoch 34: val_accuracy did not improve from 0.96000\n",
            "\u001b[1m178/178\u001b[0m \u001b[32m━━━━━━━━━━━━━━━━━━━━\u001b[0m\u001b[37m\u001b[0m \u001b[1m0s\u001b[0m 952us/step - accuracy: 1.0000 - loss: 0.0562 - val_accuracy: 0.9600 - val_loss: 0.1449 - learning_rate: 1.2500e-04\n",
            "Epoch 35/100\n",
            "\u001b[1m174/178\u001b[0m \u001b[32m━━━━━━━━━━━━━━━━━━━\u001b[0m\u001b[37m━\u001b[0m \u001b[1m0s\u001b[0m 13ms/step - accuracy: 0.9320 - loss: 0.2065\n",
            "Epoch 35: val_accuracy improved from 0.96000 to 0.96211, saving model to HandwrittenMathsmodel.keras\n",
            "\u001b[1m178/178\u001b[0m \u001b[32m━━━━━━━━━━━━━━━━━━━━\u001b[0m\u001b[37m\u001b[0m \u001b[1m5s\u001b[0m 18ms/step - accuracy: 0.9319 - loss: 0.2069 - val_accuracy: 0.9621 - val_loss: 0.1372 - learning_rate: 1.2500e-04\n",
            "Epoch 36/100\n",
            "\u001b[1m  1/178\u001b[0m \u001b[37m━━━━━━━━━━━━━━━━━━━━\u001b[0m \u001b[1m1s\u001b[0m 9ms/step - accuracy: 0.9375 - loss: 0.1661\n",
            "Epoch 36: val_accuracy did not improve from 0.96211\n",
            "\u001b[1m178/178\u001b[0m \u001b[32m━━━━━━━━━━━━━━━━━━━━\u001b[0m\u001b[37m\u001b[0m \u001b[1m0s\u001b[0m 512us/step - accuracy: 0.9375 - loss: 0.1661 - val_accuracy: 0.9621 - val_loss: 0.1375 - learning_rate: 1.2500e-04\n",
            "Epoch 37/100\n",
            "\u001b[1m178/178\u001b[0m \u001b[32m━━━━━━━━━━━━━━━━━━━━\u001b[0m\u001b[37m\u001b[0m \u001b[1m0s\u001b[0m 18ms/step - accuracy: 0.9320 - loss: 0.2186\n",
            "Epoch 37: val_accuracy improved from 0.96211 to 0.96316, saving model to HandwrittenMathsmodel.keras\n",
            "\u001b[1m178/178\u001b[0m \u001b[32m━━━━━━━━━━━━━━━━━━━━\u001b[0m\u001b[37m\u001b[0m \u001b[1m4s\u001b[0m 23ms/step - accuracy: 0.9320 - loss: 0.2186 - val_accuracy: 0.9632 - val_loss: 0.1342 - learning_rate: 1.2500e-04\n",
            "Epoch 38/100\n",
            "\u001b[1m  1/178\u001b[0m \u001b[37m━━━━━━━━━━━━━━━━━━━━\u001b[0m \u001b[1m1s\u001b[0m 9ms/step - accuracy: 0.8750 - loss: 0.6424\n",
            "Epoch 38: val_accuracy did not improve from 0.96316\n",
            "\u001b[1m178/178\u001b[0m \u001b[32m━━━━━━━━━━━━━━━━━━━━\u001b[0m\u001b[37m\u001b[0m \u001b[1m0s\u001b[0m 1ms/step - accuracy: 0.8750 - loss: 0.6424 - val_accuracy: 0.9632 - val_loss: 0.1333 - learning_rate: 1.2500e-04\n",
            "Epoch 39/100\n",
            "\u001b[1m178/178\u001b[0m \u001b[32m━━━━━━━━━━━━━━━━━━━━\u001b[0m\u001b[37m\u001b[0m \u001b[1m0s\u001b[0m 15ms/step - accuracy: 0.9342 - loss: 0.2149\n",
            "Epoch 39: val_accuracy did not improve from 0.96316\n",
            "\u001b[1m178/178\u001b[0m \u001b[32m━━━━━━━━━━━━━━━━━━━━\u001b[0m\u001b[37m\u001b[0m \u001b[1m3s\u001b[0m 15ms/step - accuracy: 0.9342 - loss: 0.2150 - val_accuracy: 0.9589 - val_loss: 0.1526 - learning_rate: 1.2500e-04\n",
            "Epoch 40/100\n",
            "\u001b[1m  1/178\u001b[0m \u001b[37m━━━━━━━━━━━━━━━━━━━━\u001b[0m \u001b[1m1s\u001b[0m 8ms/step - accuracy: 0.9688 - loss: 0.2091\n",
            "Epoch 40: val_accuracy did not improve from 0.96316\n",
            "\u001b[1m178/178\u001b[0m \u001b[32m━━━━━━━━━━━━━━━━━━━━\u001b[0m\u001b[37m\u001b[0m \u001b[1m0s\u001b[0m 465us/step - accuracy: 0.9688 - loss: 0.2091 - val_accuracy: 0.9621 - val_loss: 0.1487 - learning_rate: 1.2500e-04\n",
            "Epoch 41/100\n",
            "\u001b[1m172/178\u001b[0m \u001b[32m━━━━━━━━━━━━━━━━━━━\u001b[0m\u001b[37m━\u001b[0m \u001b[1m0s\u001b[0m 14ms/step - accuracy: 0.9367 - loss: 0.2107\n",
            "Epoch 41: val_accuracy did not improve from 0.96316\n",
            "\u001b[1m178/178\u001b[0m \u001b[32m━━━━━━━━━━━━━━━━━━━━\u001b[0m\u001b[37m\u001b[0m \u001b[1m3s\u001b[0m 14ms/step - accuracy: 0.9366 - loss: 0.2106 - val_accuracy: 0.9621 - val_loss: 0.1483 - learning_rate: 6.2500e-05\n",
            "Epoch 42/100\n",
            "\u001b[1m  1/178\u001b[0m \u001b[37m━━━━━━━━━━━━━━━━━━━━\u001b[0m \u001b[1m1s\u001b[0m 8ms/step - accuracy: 0.9062 - loss: 0.1667\n",
            "Epoch 42: val_accuracy did not improve from 0.96316\n",
            "\u001b[1m178/178\u001b[0m \u001b[32m━━━━━━━━━━━━━━━━━━━━\u001b[0m\u001b[37m\u001b[0m \u001b[1m0s\u001b[0m 485us/step - accuracy: 0.9062 - loss: 0.1667 - val_accuracy: 0.9579 - val_loss: 0.1536 - learning_rate: 6.2500e-05\n",
            "Epoch 43/100\n",
            "\u001b[1m178/178\u001b[0m \u001b[32m━━━━━━━━━━━━━━━━━━━━\u001b[0m\u001b[37m\u001b[0m \u001b[1m0s\u001b[0m 14ms/step - accuracy: 0.9253 - loss: 0.2216\n",
            "Epoch 43: val_accuracy did not improve from 0.96316\n",
            "\u001b[1m178/178\u001b[0m \u001b[32m━━━━━━━━━━━━━━━━━━━━\u001b[0m\u001b[37m\u001b[0m \u001b[1m3s\u001b[0m 14ms/step - accuracy: 0.9253 - loss: 0.2215 - val_accuracy: 0.9621 - val_loss: 0.1277 - learning_rate: 6.2500e-05\n",
            "Epoch 44/100\n",
            "\u001b[1m  1/178\u001b[0m \u001b[37m━━━━━━━━━━━━━━━━━━━━\u001b[0m \u001b[1m1s\u001b[0m 8ms/step - accuracy: 1.0000 - loss: 0.0355\n",
            "Epoch 44: val_accuracy did not improve from 0.96316\n",
            "\u001b[1m178/178\u001b[0m \u001b[32m━━━━━━━━━━━━━━━━━━━━\u001b[0m\u001b[37m\u001b[0m \u001b[1m0s\u001b[0m 474us/step - accuracy: 1.0000 - loss: 0.0355 - val_accuracy: 0.9621 - val_loss: 0.1280 - learning_rate: 6.2500e-05\n",
            "Epoch 45/100\n",
            "\u001b[1m177/178\u001b[0m \u001b[32m━━━━━━━━━━━━━━━━━━━\u001b[0m\u001b[37m━\u001b[0m \u001b[1m0s\u001b[0m 21ms/step - accuracy: 0.9356 - loss: 0.2016\n",
            "Epoch 45: val_accuracy did not improve from 0.96316\n",
            "\u001b[1m178/178\u001b[0m \u001b[32m━━━━━━━━━━━━━━━━━━━━\u001b[0m\u001b[37m\u001b[0m \u001b[1m6s\u001b[0m 22ms/step - accuracy: 0.9355 - loss: 0.2017 - val_accuracy: 0.9632 - val_loss: 0.1399 - learning_rate: 6.2500e-05\n",
            "Epoch 46/100\n",
            "\u001b[1m  1/178\u001b[0m \u001b[37m━━━━━━━━━━━━━━━━━━━━\u001b[0m \u001b[1m2s\u001b[0m 14ms/step - accuracy: 0.9688 - loss: 0.1162\n",
            "Epoch 46: val_accuracy improved from 0.96316 to 0.96421, saving model to HandwrittenMathsmodel.keras\n",
            "\u001b[1m178/178\u001b[0m \u001b[32m━━━━━━━━━━━━━━━━━━━━\u001b[0m\u001b[37m\u001b[0m \u001b[1m1s\u001b[0m 5ms/step - accuracy: 0.9688 - loss: 0.1162 - val_accuracy: 0.9642 - val_loss: 0.1400 - learning_rate: 6.2500e-05\n",
            "Epoch 47/100\n",
            "\u001b[1m176/178\u001b[0m \u001b[32m━━━━━━━━━━━━━━━━━━━\u001b[0m\u001b[37m━\u001b[0m \u001b[1m0s\u001b[0m 14ms/step - accuracy: 0.9364 - loss: 0.1917\n",
            "Epoch 47: val_accuracy did not improve from 0.96421\n",
            "\u001b[1m178/178\u001b[0m \u001b[32m━━━━━━━━━━━━━━━━━━━━\u001b[0m\u001b[37m\u001b[0m \u001b[1m3s\u001b[0m 14ms/step - accuracy: 0.9364 - loss: 0.1917 - val_accuracy: 0.9642 - val_loss: 0.1362 - learning_rate: 6.2500e-05\n",
            "Epoch 48/100\n",
            "\u001b[1m  1/178\u001b[0m \u001b[37m━━━━━━━━━━━━━━━━━━━━\u001b[0m \u001b[1m1s\u001b[0m 8ms/step - accuracy: 0.9375 - loss: 0.2589\n",
            "Epoch 48: val_accuracy did not improve from 0.96421\n",
            "\u001b[1m178/178\u001b[0m \u001b[32m━━━━━━━━━━━━━━━━━━━━\u001b[0m\u001b[37m\u001b[0m \u001b[1m0s\u001b[0m 473us/step - accuracy: 0.9375 - loss: 0.2589 - val_accuracy: 0.9642 - val_loss: 0.1361 - learning_rate: 6.2500e-05\n",
            "Epoch 49/100\n",
            "\u001b[1m174/178\u001b[0m \u001b[32m━━━━━━━━━━━━━━━━━━━\u001b[0m\u001b[37m━\u001b[0m \u001b[1m0s\u001b[0m 14ms/step - accuracy: 0.9397 - loss: 0.1894\n",
            "Epoch 49: val_accuracy did not improve from 0.96421\n",
            "\u001b[1m178/178\u001b[0m \u001b[32m━━━━━━━━━━━━━━━━━━━━\u001b[0m\u001b[37m\u001b[0m \u001b[1m3s\u001b[0m 14ms/step - accuracy: 0.9397 - loss: 0.1896 - val_accuracy: 0.9611 - val_loss: 0.1605 - learning_rate: 6.2500e-05\n",
            "Epoch 50/100\n",
            "\u001b[1m  1/178\u001b[0m \u001b[37m━━━━━━━━━━━━━━━━━━━━\u001b[0m \u001b[1m1s\u001b[0m 8ms/step - accuracy: 0.9375 - loss: 0.1918\n",
            "Epoch 50: val_accuracy did not improve from 0.96421\n",
            "\u001b[1m178/178\u001b[0m \u001b[32m━━━━━━━━━━━━━━━━━━━━\u001b[0m\u001b[37m\u001b[0m \u001b[1m0s\u001b[0m 479us/step - accuracy: 0.9375 - loss: 0.1918 - val_accuracy: 0.9611 - val_loss: 0.1606 - learning_rate: 6.2500e-05\n",
            "Epoch 51/100\n",
            "\u001b[1m174/178\u001b[0m \u001b[32m━━━━━━━━━━━━━━━━━━━\u001b[0m\u001b[37m━\u001b[0m \u001b[1m0s\u001b[0m 14ms/step - accuracy: 0.9358 - loss: 0.2025\n",
            "Epoch 51: val_accuracy did not improve from 0.96421\n",
            "\u001b[1m178/178\u001b[0m \u001b[32m━━━━━━━━━━━━━━━━━━━━\u001b[0m\u001b[37m\u001b[0m \u001b[1m3s\u001b[0m 14ms/step - accuracy: 0.9358 - loss: 0.2024 - val_accuracy: 0.9611 - val_loss: 0.1548 - learning_rate: 3.1250e-05\n",
            "Epoch 52/100\n",
            "\u001b[1m  1/178\u001b[0m \u001b[37m━━━━━━━━━━━━━━━━━━━━\u001b[0m \u001b[1m1s\u001b[0m 9ms/step - accuracy: 0.9062 - loss: 0.2604\n",
            "Epoch 52: val_accuracy did not improve from 0.96421\n",
            "\u001b[1m178/178\u001b[0m \u001b[32m━━━━━━━━━━━━━━━━━━━━\u001b[0m\u001b[37m\u001b[0m \u001b[1m0s\u001b[0m 498us/step - accuracy: 0.9062 - loss: 0.2604 - val_accuracy: 0.9611 - val_loss: 0.1545 - learning_rate: 3.1250e-05\n",
            "Epoch 53/100\n",
            "\u001b[1m174/178\u001b[0m \u001b[32m━━━━━━━━━━━━━━━━━━━\u001b[0m\u001b[37m━\u001b[0m \u001b[1m0s\u001b[0m 18ms/step - accuracy: 0.9384 - loss: 0.1993\n",
            "Epoch 53: val_accuracy did not improve from 0.96421\n",
            "\u001b[1m178/178\u001b[0m \u001b[32m━━━━━━━━━━━━━━━━━━━━\u001b[0m\u001b[37m\u001b[0m \u001b[1m6s\u001b[0m 19ms/step - accuracy: 0.9385 - loss: 0.1991 - val_accuracy: 0.9611 - val_loss: 0.1491 - learning_rate: 3.1250e-05\n",
            "Epoch 54/100\n",
            "\u001b[1m  1/178\u001b[0m \u001b[37m━━━━━━━━━━━━━━━━━━━━\u001b[0m \u001b[1m1s\u001b[0m 10ms/step - accuracy: 1.0000 - loss: 0.0134\n",
            "Epoch 54: val_accuracy did not improve from 0.96421\n",
            "\u001b[1m178/178\u001b[0m \u001b[32m━━━━━━━━━━━━━━━━━━━━\u001b[0m\u001b[37m\u001b[0m \u001b[1m0s\u001b[0m 493us/step - accuracy: 1.0000 - loss: 0.0134 - val_accuracy: 0.9611 - val_loss: 0.1493 - learning_rate: 3.1250e-05\n",
            "Epoch 55/100\n",
            "\u001b[1m176/178\u001b[0m \u001b[32m━━━━━━━━━━━━━━━━━━━\u001b[0m\u001b[37m━\u001b[0m \u001b[1m0s\u001b[0m 14ms/step - accuracy: 0.9342 - loss: 0.2068\n",
            "Epoch 55: val_accuracy did not improve from 0.96421\n",
            "\u001b[1m178/178\u001b[0m \u001b[32m━━━━━━━━━━━━━━━━━━━━\u001b[0m\u001b[37m\u001b[0m \u001b[1m3s\u001b[0m 14ms/step - accuracy: 0.9342 - loss: 0.2067 - val_accuracy: 0.9621 - val_loss: 0.1422 - learning_rate: 3.1250e-05\n",
            "Epoch 56/100\n",
            "\u001b[1m  1/178\u001b[0m \u001b[37m━━━━━━━━━━━━━━━━━━━━\u001b[0m \u001b[1m1s\u001b[0m 8ms/step - accuracy: 1.0000 - loss: 0.0660\n",
            "Epoch 56: val_accuracy did not improve from 0.96421\n",
            "\u001b[1m178/178\u001b[0m \u001b[32m━━━━━━━━━━━━━━━━━━━━\u001b[0m\u001b[37m\u001b[0m \u001b[1m0s\u001b[0m 496us/step - accuracy: 1.0000 - loss: 0.0660 - val_accuracy: 0.9621 - val_loss: 0.1419 - learning_rate: 3.1250e-05\n",
            "Epoch 57/100\n",
            "\u001b[1m171/178\u001b[0m \u001b[32m━━━━━━━━━━━━━━━━━━━\u001b[0m\u001b[37m━\u001b[0m \u001b[1m0s\u001b[0m 14ms/step - accuracy: 0.9393 - loss: 0.1796\n",
            "Epoch 57: val_accuracy did not improve from 0.96421\n",
            "\u001b[1m178/178\u001b[0m \u001b[32m━━━━━━━━━━━━━━━━━━━━\u001b[0m\u001b[37m\u001b[0m \u001b[1m5s\u001b[0m 14ms/step - accuracy: 0.9393 - loss: 0.1799 - val_accuracy: 0.9642 - val_loss: 0.1385 - learning_rate: 3.1250e-05\n",
            "Epoch 58/100\n",
            "\u001b[1m  1/178\u001b[0m \u001b[37m━━━━━━━━━━━━━━━━━━━━\u001b[0m \u001b[1m1s\u001b[0m 8ms/step - accuracy: 0.9062 - loss: 0.3143\n",
            "Epoch 58: val_accuracy did not improve from 0.96421\n",
            "\u001b[1m178/178\u001b[0m \u001b[32m━━━━━━━━━━━━━━━━━━━━\u001b[0m\u001b[37m\u001b[0m \u001b[1m0s\u001b[0m 480us/step - accuracy: 0.9062 - loss: 0.3143 - val_accuracy: 0.9642 - val_loss: 0.1392 - learning_rate: 3.1250e-05\n",
            "Epoch 59/100\n",
            "\u001b[1m173/178\u001b[0m \u001b[32m━━━━━━━━━━━━━━━━━━━\u001b[0m\u001b[37m━\u001b[0m \u001b[1m0s\u001b[0m 19ms/step - accuracy: 0.9472 - loss: 0.1739\n",
            "Epoch 59: val_accuracy did not improve from 0.96421\n",
            "\u001b[1m178/178\u001b[0m \u001b[32m━━━━━━━━━━━━━━━━━━━━\u001b[0m\u001b[37m\u001b[0m \u001b[1m4s\u001b[0m 20ms/step - accuracy: 0.9469 - loss: 0.1745 - val_accuracy: 0.9642 - val_loss: 0.1307 - learning_rate: 3.1250e-05\n",
            "Epoch 60/100\n",
            "\u001b[1m  1/178\u001b[0m \u001b[37m━━━━━━━━━━━━━━━━━━━━\u001b[0m \u001b[1m1s\u001b[0m 10ms/step - accuracy: 0.9688 - loss: 0.0726\n",
            "Epoch 60: val_accuracy did not improve from 0.96421\n",
            "\u001b[1m178/178\u001b[0m \u001b[32m━━━━━━━━━━━━━━━━━━━━\u001b[0m\u001b[37m\u001b[0m \u001b[1m0s\u001b[0m 646us/step - accuracy: 0.9688 - loss: 0.0726 - val_accuracy: 0.9642 - val_loss: 0.1307 - learning_rate: 3.1250e-05\n",
            "Epoch 61/100\n",
            "\u001b[1m178/178\u001b[0m \u001b[32m━━━━━━━━━━━━━━━━━━━━\u001b[0m\u001b[37m\u001b[0m \u001b[1m0s\u001b[0m 16ms/step - accuracy: 0.9429 - loss: 0.1849\n",
            "Epoch 61: val_accuracy did not improve from 0.96421\n",
            "\u001b[1m178/178\u001b[0m \u001b[32m━━━━━━━━━━━━━━━━━━━━\u001b[0m\u001b[37m\u001b[0m \u001b[1m3s\u001b[0m 17ms/step - accuracy: 0.9428 - loss: 0.1849 - val_accuracy: 0.9642 - val_loss: 0.1305 - learning_rate: 1.5625e-05\n",
            "Epoch 62/100\n",
            "\u001b[1m  1/178\u001b[0m \u001b[37m━━━━━━━━━━━━━━━━━━━━\u001b[0m \u001b[1m1s\u001b[0m 9ms/step - accuracy: 0.9688 - loss: 0.0577\n",
            "Epoch 62: val_accuracy did not improve from 0.96421\n",
            "\u001b[1m178/178\u001b[0m \u001b[32m━━━━━━━━━━━━━━━━━━━━\u001b[0m\u001b[37m\u001b[0m \u001b[1m0s\u001b[0m 489us/step - accuracy: 0.9688 - loss: 0.0577 - val_accuracy: 0.9642 - val_loss: 0.1308 - learning_rate: 1.5625e-05\n",
            "Epoch 63/100\n",
            "\u001b[1m176/178\u001b[0m \u001b[32m━━━━━━━━━━━━━━━━━━━\u001b[0m\u001b[37m━\u001b[0m \u001b[1m0s\u001b[0m 14ms/step - accuracy: 0.9367 - loss: 0.1926\n",
            "Epoch 63: val_accuracy did not improve from 0.96421\n",
            "\u001b[1m178/178\u001b[0m \u001b[32m━━━━━━━━━━━━━━━━━━━━\u001b[0m\u001b[37m\u001b[0m \u001b[1m3s\u001b[0m 14ms/step - accuracy: 0.9367 - loss: 0.1927 - val_accuracy: 0.9642 - val_loss: 0.1318 - learning_rate: 1.5625e-05\n",
            "Epoch 64/100\n",
            "\u001b[1m  1/178\u001b[0m \u001b[37m━━━━━━━━━━━━━━━━━━━━\u001b[0m \u001b[1m1s\u001b[0m 9ms/step - accuracy: 0.8750 - loss: 0.4483\n",
            "Epoch 64: val_accuracy did not improve from 0.96421\n",
            "\u001b[1m178/178\u001b[0m \u001b[32m━━━━━━━━━━━━━━━━━━━━\u001b[0m\u001b[37m\u001b[0m \u001b[1m0s\u001b[0m 500us/step - accuracy: 0.8750 - loss: 0.4483 - val_accuracy: 0.9642 - val_loss: 0.1317 - learning_rate: 1.5625e-05\n",
            "Epoch 65/100\n",
            "\u001b[1m172/178\u001b[0m \u001b[32m━━━━━━━━━━━━━━━━━━━\u001b[0m\u001b[37m━\u001b[0m \u001b[1m0s\u001b[0m 14ms/step - accuracy: 0.9382 - loss: 0.2102\n",
            "Epoch 65: val_accuracy improved from 0.96421 to 0.96632, saving model to HandwrittenMathsmodel.keras\n",
            "\u001b[1m178/178\u001b[0m \u001b[32m━━━━━━━━━━━━━━━━━━━━\u001b[0m\u001b[37m\u001b[0m \u001b[1m6s\u001b[0m 18ms/step - accuracy: 0.9383 - loss: 0.2097 - val_accuracy: 0.9663 - val_loss: 0.1297 - learning_rate: 1.5625e-05\n",
            "Epoch 66/100\n",
            "\u001b[1m  1/178\u001b[0m \u001b[37m━━━━━━━━━━━━━━━━━━━━\u001b[0m \u001b[1m1s\u001b[0m 10ms/step - accuracy: 0.9688 - loss: 0.1482\n",
            "Epoch 66: val_accuracy did not improve from 0.96632\n",
            "\u001b[1m178/178\u001b[0m \u001b[32m━━━━━━━━━━━━━━━━━━━━\u001b[0m\u001b[37m\u001b[0m \u001b[1m0s\u001b[0m 1ms/step - accuracy: 0.9688 - loss: 0.1482 - val_accuracy: 0.9663 - val_loss: 0.1298 - learning_rate: 1.5625e-05\n",
            "Epoch 67/100\n",
            "\u001b[1m178/178\u001b[0m \u001b[32m━━━━━━━━━━━━━━━━━━━━\u001b[0m\u001b[37m\u001b[0m \u001b[1m0s\u001b[0m 16ms/step - accuracy: 0.9343 - loss: 0.2142\n",
            "Epoch 67: val_accuracy did not improve from 0.96632\n",
            "\u001b[1m178/178\u001b[0m \u001b[32m━━━━━━━━━━━━━━━━━━━━\u001b[0m\u001b[37m\u001b[0m \u001b[1m5s\u001b[0m 16ms/step - accuracy: 0.9343 - loss: 0.2141 - val_accuracy: 0.9653 - val_loss: 0.1341 - learning_rate: 1.5625e-05\n",
            "Epoch 68/100\n",
            "\u001b[1m  1/178\u001b[0m \u001b[37m━━━━━━━━━━━━━━━━━━━━\u001b[0m \u001b[1m1s\u001b[0m 8ms/step - accuracy: 0.8438 - loss: 0.3521\n",
            "Epoch 68: val_accuracy did not improve from 0.96632\n",
            "\u001b[1m178/178\u001b[0m \u001b[32m━━━━━━━━━━━━━━━━━━━━\u001b[0m\u001b[37m\u001b[0m \u001b[1m0s\u001b[0m 522us/step - accuracy: 0.8438 - loss: 0.3521 - val_accuracy: 0.9642 - val_loss: 0.1341 - learning_rate: 1.5625e-05\n",
            "Epoch 69/100\n",
            "\u001b[1m177/178\u001b[0m \u001b[32m━━━━━━━━━━━━━━━━━━━\u001b[0m\u001b[37m━\u001b[0m \u001b[1m0s\u001b[0m 14ms/step - accuracy: 0.9303 - loss: 0.2055\n",
            "Epoch 69: val_accuracy improved from 0.96632 to 0.96737, saving model to HandwrittenMathsmodel.keras\n",
            "\u001b[1m178/178\u001b[0m \u001b[32m━━━━━━━━━━━━━━━━━━━━\u001b[0m\u001b[37m\u001b[0m \u001b[1m5s\u001b[0m 19ms/step - accuracy: 0.9304 - loss: 0.2053 - val_accuracy: 0.9674 - val_loss: 0.1240 - learning_rate: 1.5625e-05\n",
            "Epoch 70/100\n",
            "\u001b[1m  1/178\u001b[0m \u001b[37m━━━━━━━━━━━━━━━━━━━━\u001b[0m \u001b[1m1s\u001b[0m 10ms/step - accuracy: 0.9375 - loss: 0.1629\n",
            "Epoch 70: val_accuracy did not improve from 0.96737\n",
            "\u001b[1m178/178\u001b[0m \u001b[32m━━━━━━━━━━━━━━━━━━━━\u001b[0m\u001b[37m\u001b[0m \u001b[1m0s\u001b[0m 516us/step - accuracy: 0.9375 - loss: 0.1629 - val_accuracy: 0.9674 - val_loss: 0.1242 - learning_rate: 1.5625e-05\n",
            "Epoch 71/100\n",
            "\u001b[1m173/178\u001b[0m \u001b[32m━━━━━━━━━━━━━━━━━━━\u001b[0m\u001b[37m━\u001b[0m \u001b[1m0s\u001b[0m 14ms/step - accuracy: 0.9374 - loss: 0.1859\n",
            "Epoch 71: val_accuracy did not improve from 0.96737\n",
            "\u001b[1m178/178\u001b[0m \u001b[32m━━━━━━━━━━━━━━━━━━━━\u001b[0m\u001b[37m\u001b[0m \u001b[1m3s\u001b[0m 15ms/step - accuracy: 0.9375 - loss: 0.1858 - val_accuracy: 0.9653 - val_loss: 0.1299 - learning_rate: 7.8125e-06\n",
            "Epoch 72/100\n",
            "\u001b[1m  1/178\u001b[0m \u001b[37m━━━━━━━━━━━━━━━━━━━━\u001b[0m \u001b[1m1s\u001b[0m 10ms/step - accuracy: 0.8750 - loss: 0.1510\n",
            "Epoch 72: val_accuracy did not improve from 0.96737\n",
            "\u001b[1m178/178\u001b[0m \u001b[32m━━━━━━━━━━━━━━━━━━━━\u001b[0m\u001b[37m\u001b[0m \u001b[1m0s\u001b[0m 627us/step - accuracy: 0.8750 - loss: 0.1510 - val_accuracy: 0.9653 - val_loss: 0.1298 - learning_rate: 7.8125e-06\n",
            "Epoch 73/100\n",
            "\u001b[1m176/178\u001b[0m \u001b[32m━━━━━━━━━━━━━━━━━━━\u001b[0m\u001b[37m━\u001b[0m \u001b[1m0s\u001b[0m 14ms/step - accuracy: 0.9356 - loss: 0.2057\n",
            "Epoch 73: val_accuracy did not improve from 0.96737\n",
            "\u001b[1m178/178\u001b[0m \u001b[32m━━━━━━━━━━━━━━━━━━━━\u001b[0m\u001b[37m\u001b[0m \u001b[1m5s\u001b[0m 14ms/step - accuracy: 0.9357 - loss: 0.2053 - val_accuracy: 0.9653 - val_loss: 0.1244 - learning_rate: 7.8125e-06\n",
            "Epoch 74/100\n",
            "\u001b[1m  1/178\u001b[0m \u001b[37m━━━━━━━━━━━━━━━━━━━━\u001b[0m \u001b[1m1s\u001b[0m 8ms/step - accuracy: 0.9375 - loss: 0.1928\n",
            "Epoch 74: val_accuracy did not improve from 0.96737\n",
            "\u001b[1m178/178\u001b[0m \u001b[32m━━━━━━━━━━━━━━━━━━━━\u001b[0m\u001b[37m\u001b[0m \u001b[1m0s\u001b[0m 492us/step - accuracy: 0.9375 - loss: 0.1928 - val_accuracy: 0.9653 - val_loss: 0.1246 - learning_rate: 7.8125e-06\n",
            "Epoch 75/100\n",
            "\u001b[1m176/178\u001b[0m \u001b[32m━━━━━━━━━━━━━━━━━━━\u001b[0m\u001b[37m━\u001b[0m \u001b[1m0s\u001b[0m 13ms/step - accuracy: 0.9424 - loss: 0.1942\n",
            "Epoch 75: val_accuracy did not improve from 0.96737\n",
            "\u001b[1m178/178\u001b[0m \u001b[32m━━━━━━━━━━━━━━━━━━━━\u001b[0m\u001b[37m\u001b[0m \u001b[1m3s\u001b[0m 14ms/step - accuracy: 0.9424 - loss: 0.1943 - val_accuracy: 0.9632 - val_loss: 0.1315 - learning_rate: 7.8125e-06\n",
            "Epoch 76/100\n",
            "\u001b[1m  1/178\u001b[0m \u001b[37m━━━━━━━━━━━━━━━━━━━━\u001b[0m \u001b[1m1s\u001b[0m 9ms/step - accuracy: 0.9062 - loss: 0.2333\n",
            "Epoch 76: val_accuracy did not improve from 0.96737\n",
            "\u001b[1m178/178\u001b[0m \u001b[32m━━━━━━━━━━━━━━━━━━━━\u001b[0m\u001b[37m\u001b[0m \u001b[1m0s\u001b[0m 511us/step - accuracy: 0.9062 - loss: 0.2333 - val_accuracy: 0.9632 - val_loss: 0.1317 - learning_rate: 7.8125e-06\n",
            "Epoch 77/100\n",
            "\u001b[1m176/178\u001b[0m \u001b[32m━━━━━━━━━━━━━━━━━━━\u001b[0m\u001b[37m━\u001b[0m \u001b[1m0s\u001b[0m 15ms/step - accuracy: 0.9412 - loss: 0.1895\n",
            "Epoch 77: val_accuracy did not improve from 0.96737\n",
            "\u001b[1m178/178\u001b[0m \u001b[32m━━━━━━━━━━━━━━━━━━━━\u001b[0m\u001b[37m\u001b[0m \u001b[1m5s\u001b[0m 16ms/step - accuracy: 0.9412 - loss: 0.1895 - val_accuracy: 0.9632 - val_loss: 0.1324 - learning_rate: 7.8125e-06\n",
            "Epoch 78/100\n",
            "\u001b[1m  1/178\u001b[0m \u001b[37m━━━━━━━━━━━━━━━━━━━━\u001b[0m \u001b[1m1s\u001b[0m 9ms/step - accuracy: 0.9062 - loss: 0.2592\n",
            "Epoch 78: val_accuracy did not improve from 0.96737\n",
            "\u001b[1m178/178\u001b[0m \u001b[32m━━━━━━━━━━━━━━━━━━━━\u001b[0m\u001b[37m\u001b[0m \u001b[1m0s\u001b[0m 602us/step - accuracy: 0.9062 - loss: 0.2592 - val_accuracy: 0.9632 - val_loss: 0.1325 - learning_rate: 7.8125e-06\n",
            "Epoch 79/100\n",
            "\u001b[1m174/178\u001b[0m \u001b[32m━━━━━━━━━━━━━━━━━━━\u001b[0m\u001b[37m━\u001b[0m \u001b[1m0s\u001b[0m 14ms/step - accuracy: 0.9424 - loss: 0.1781\n",
            "Epoch 79: val_accuracy did not improve from 0.96737\n",
            "\u001b[1m178/178\u001b[0m \u001b[32m━━━━━━━━━━━━━━━━━━━━\u001b[0m\u001b[37m\u001b[0m \u001b[1m5s\u001b[0m 14ms/step - accuracy: 0.9424 - loss: 0.1783 - val_accuracy: 0.9663 - val_loss: 0.1299 - learning_rate: 7.8125e-06\n",
            "Epoch 80/100\n",
            "\u001b[1m  1/178\u001b[0m \u001b[37m━━━━━━━━━━━━━━━━━━━━\u001b[0m \u001b[1m1s\u001b[0m 9ms/step - accuracy: 0.9688 - loss: 0.0712\n",
            "Epoch 80: val_accuracy did not improve from 0.96737\n",
            "\u001b[1m178/178\u001b[0m \u001b[32m━━━━━━━━━━━━━━━━━━━━\u001b[0m\u001b[37m\u001b[0m \u001b[1m0s\u001b[0m 471us/step - accuracy: 0.9688 - loss: 0.0712 - val_accuracy: 0.9663 - val_loss: 0.1298 - learning_rate: 7.8125e-06\n",
            "Epoch 81/100\n",
            "\u001b[1m176/178\u001b[0m \u001b[32m━━━━━━━━━━━━━━━━━━━\u001b[0m\u001b[37m━\u001b[0m \u001b[1m0s\u001b[0m 14ms/step - accuracy: 0.9435 - loss: 0.1794\n",
            "Epoch 81: val_accuracy did not improve from 0.96737\n",
            "\u001b[1m178/178\u001b[0m \u001b[32m━━━━━━━━━━━━━━━━━━━━\u001b[0m\u001b[37m\u001b[0m \u001b[1m5s\u001b[0m 14ms/step - accuracy: 0.9435 - loss: 0.1795 - val_accuracy: 0.9663 - val_loss: 0.1283 - learning_rate: 3.9063e-06\n",
            "Epoch 82/100\n",
            "\u001b[1m  1/178\u001b[0m \u001b[37m━━━━━━━━━━━━━━━━━━━━\u001b[0m \u001b[1m1s\u001b[0m 8ms/step - accuracy: 0.9375 - loss: 0.1024\n",
            "Epoch 82: val_accuracy did not improve from 0.96737\n",
            "\u001b[1m178/178\u001b[0m \u001b[32m━━━━━━━━━━━━━━━━━━━━\u001b[0m\u001b[37m\u001b[0m \u001b[1m0s\u001b[0m 525us/step - accuracy: 0.9375 - loss: 0.1024 - val_accuracy: 0.9663 - val_loss: 0.1285 - learning_rate: 3.9063e-06\n",
            "Epoch 83/100\n",
            "\u001b[1m174/178\u001b[0m \u001b[32m━━━━━━━━━━━━━━━━━━━\u001b[0m\u001b[37m━\u001b[0m \u001b[1m0s\u001b[0m 22ms/step - accuracy: 0.9407 - loss: 0.1912\n",
            "Epoch 83: val_accuracy did not improve from 0.96737\n",
            "\u001b[1m178/178\u001b[0m \u001b[32m━━━━━━━━━━━━━━━━━━━━\u001b[0m\u001b[37m\u001b[0m \u001b[1m6s\u001b[0m 22ms/step - accuracy: 0.9407 - loss: 0.1914 - val_accuracy: 0.9653 - val_loss: 0.1288 - learning_rate: 3.9063e-06\n",
            "Epoch 84/100\n",
            "\u001b[1m  1/178\u001b[0m \u001b[37m━━━━━━━━━━━━━━━━━━━━\u001b[0m \u001b[1m1s\u001b[0m 8ms/step - accuracy: 1.0000 - loss: 0.0677\n",
            "Epoch 84: val_accuracy did not improve from 0.96737\n",
            "\u001b[1m178/178\u001b[0m \u001b[32m━━━━━━━━━━━━━━━━━━━━\u001b[0m\u001b[37m\u001b[0m \u001b[1m0s\u001b[0m 508us/step - accuracy: 1.0000 - loss: 0.0677 - val_accuracy: 0.9653 - val_loss: 0.1286 - learning_rate: 3.9063e-06\n",
            "Epoch 85/100\n",
            "\u001b[1m172/178\u001b[0m \u001b[32m━━━━━━━━━━━━━━━━━━━\u001b[0m\u001b[37m━\u001b[0m \u001b[1m0s\u001b[0m 14ms/step - accuracy: 0.9311 - loss: 0.2090\n",
            "Epoch 85: val_accuracy did not improve from 0.96737\n",
            "\u001b[1m178/178\u001b[0m \u001b[32m━━━━━━━━━━━━━━━━━━━━\u001b[0m\u001b[37m\u001b[0m \u001b[1m4s\u001b[0m 14ms/step - accuracy: 0.9314 - loss: 0.2086 - val_accuracy: 0.9621 - val_loss: 0.1313 - learning_rate: 3.9063e-06\n",
            "Epoch 86/100\n",
            "\u001b[1m  1/178\u001b[0m \u001b[37m━━━━━━━━━━━━━━━━━━━━\u001b[0m \u001b[1m1s\u001b[0m 8ms/step - accuracy: 1.0000 - loss: 0.0430\n",
            "Epoch 86: val_accuracy did not improve from 0.96737\n",
            "\u001b[1m178/178\u001b[0m \u001b[32m━━━━━━━━━━━━━━━━━━━━\u001b[0m\u001b[37m\u001b[0m \u001b[1m0s\u001b[0m 499us/step - accuracy: 1.0000 - loss: 0.0430 - val_accuracy: 0.9621 - val_loss: 0.1314 - learning_rate: 3.9063e-06\n",
            "Epoch 87/100\n",
            "\u001b[1m178/178\u001b[0m \u001b[32m━━━━━━━━━━━━━━━━━━━━\u001b[0m\u001b[37m\u001b[0m \u001b[1m0s\u001b[0m 14ms/step - accuracy: 0.9378 - loss: 0.1910\n",
            "Epoch 87: val_accuracy did not improve from 0.96737\n",
            "\u001b[1m178/178\u001b[0m \u001b[32m━━━━━━━━━━━━━━━━━━━━\u001b[0m\u001b[37m\u001b[0m \u001b[1m5s\u001b[0m 14ms/step - accuracy: 0.9379 - loss: 0.1910 - val_accuracy: 0.9653 - val_loss: 0.1291 - learning_rate: 3.9063e-06\n",
            "Epoch 88/100\n",
            "\u001b[1m  1/178\u001b[0m \u001b[37m━━━━━━━━━━━━━━━━━━━━\u001b[0m \u001b[1m1s\u001b[0m 9ms/step - accuracy: 1.0000 - loss: 0.0710\n",
            "Epoch 88: val_accuracy did not improve from 0.96737\n",
            "\u001b[1m178/178\u001b[0m \u001b[32m━━━━━━━━━━━━━━━━━━━━\u001b[0m\u001b[37m\u001b[0m \u001b[1m0s\u001b[0m 474us/step - accuracy: 1.0000 - loss: 0.0710 - val_accuracy: 0.9653 - val_loss: 0.1291 - learning_rate: 3.9063e-06\n",
            "Epoch 89/100\n",
            "\u001b[1m177/178\u001b[0m \u001b[32m━━━━━━━━━━━━━━━━━━━\u001b[0m\u001b[37m━\u001b[0m \u001b[1m0s\u001b[0m 19ms/step - accuracy: 0.9375 - loss: 0.2065\n",
            "Epoch 89: val_accuracy did not improve from 0.96737\n",
            "\u001b[1m178/178\u001b[0m \u001b[32m━━━━━━━━━━━━━━━━━━━━\u001b[0m\u001b[37m\u001b[0m \u001b[1m4s\u001b[0m 20ms/step - accuracy: 0.9376 - loss: 0.2063 - val_accuracy: 0.9632 - val_loss: 0.1284 - learning_rate: 3.9063e-06\n",
            "Epoch 89: early stopping\n",
            "Restoring model weights from the end of the best epoch: 69.\n"
          ]
        }
      ]
    },
    {
      "cell_type": "markdown",
      "source": [
        "## Checking model performance:"
      ],
      "metadata": {
        "id": "W6zV-VmJ1u7p"
      }
    },
    {
      "cell_type": "code",
      "source": [
        "train_loss, train_accu = model.evaluate(X_train_reshaped, y_train_encoded)\n",
        "test_loss, test_accu = model.evaluate(X_test_reshaped, y_test_encoded)\n",
        "print(\"final train accuracy = {:.2f} , validation accuracy = {:.2f}\".format(train_accu*100, test_accu*100))"
      ],
      "metadata": {
        "colab": {
          "base_uri": "https://localhost:8080/"
        },
        "id": "WCJDPjJ8zCod",
        "outputId": "8277c4b4-f2f0-4b1b-8001-71af4b84821e"
      },
      "execution_count": null,
      "outputs": [
        {
          "output_type": "stream",
          "name": "stdout",
          "text": [
            "\u001b[1m179/179\u001b[0m \u001b[32m━━━━━━━━━━━━━━━━━━━━\u001b[0m\u001b[37m\u001b[0m \u001b[1m0s\u001b[0m 2ms/step - accuracy: 0.9762 - loss: 0.0707\n",
            "\u001b[1m30/30\u001b[0m \u001b[32m━━━━━━━━━━━━━━━━━━━━\u001b[0m\u001b[37m\u001b[0m \u001b[1m0s\u001b[0m 2ms/step - accuracy: 0.9696 - loss: 0.1044\n",
            "final train accuracy = 97.70 , validation accuracy = 96.74\n"
          ]
        }
      ]
    },
    {
      "cell_type": "markdown",
      "source": [
        "### Confusion matrix"
      ],
      "metadata": {
        "id": "2qUienNn2irG"
      }
    },
    {
      "cell_type": "code",
      "source": [
        "# Import required libraries\n",
        "import numpy as np\n",
        "import seaborn as sns\n",
        "import matplotlib.pyplot as plt\n",
        "from sklearn.metrics import confusion_matrix\n",
        "\n",
        "# Make predictions on the test set\n",
        "y_pred_probs = model.predict(X_test_reshaped)  # Get predicted probabilities\n",
        "y_pred = np.argmax(y_pred_probs, axis=1)       # Convert probabilities to class predictions\n",
        "\n",
        "# Convert the one-hot encoded true labels back to class labels\n",
        "y_true = np.argmax(y_test_encoded, axis=1)\n",
        "\n",
        "# Compute the confusion matrix\n",
        "cm = confusion_matrix(y_true, y_pred)\n",
        "\n",
        "# Print confusion matrix\n",
        "print(\"Confusion Matrix:\")\n",
        "print(cm)\n",
        "\n",
        "# Create a heatmap of the confusion matrix\n",
        "plt.figure(figsize=(10, 8))\n",
        "sns.heatmap(cm, annot=True, fmt='d', cmap='Blues', xticklabels=label_mapping.keys(), yticklabels=label_mapping.keys())\n",
        "plt.title('Confusion Matrix')\n",
        "plt.xlabel('Predicted Label')\n",
        "plt.ylabel('True Label')\n",
        "plt.show()\n",
        "\n",
        "# Normalize the confusion matrix\n",
        "cm_normalized = cm.astype('float') / cm.sum(axis=1)[:, np.newaxis]\n",
        "\n",
        "# Create a heatmap for normalized confusion matrix\n",
        "plt.figure(figsize=(10, 8))\n",
        "sns.heatmap(cm_normalized, annot=True, fmt='.2f', cmap='Blues', xticklabels=label_mapping.keys(), yticklabels=label_mapping.keys())\n",
        "plt.title('Normalized Confusion Matrix')\n",
        "plt.xlabel('Predicted Label')\n",
        "plt.ylabel('True Label')\n",
        "plt.show()"
      ],
      "metadata": {
        "colab": {
          "base_uri": "https://localhost:8080/",
          "height": 1000
        },
        "id": "fyLshQLl4RNY",
        "outputId": "3c795765-303e-4c85-e206-54d2e034dae2"
      },
      "execution_count": null,
      "outputs": [
        {
          "output_type": "stream",
          "name": "stdout",
          "text": [
            "\u001b[1m30/30\u001b[0m \u001b[32m━━━━━━━━━━━━━━━━━━━━\u001b[0m\u001b[37m\u001b[0m \u001b[1m0s\u001b[0m 1ms/step \n",
            "Confusion Matrix:\n",
            "[[66  0  0  0  0  0  0  0  4  1  0  0  0  0]\n",
            " [ 0 71  0  0  1  0  0  1  1  0  0  0  0  0]\n",
            " [ 0  0 69  0  1  0  0  0  0  0  0  0  0  0]\n",
            " [ 0  0  0 67  0  0  0  0  1  0  0  0  0  0]\n",
            " [ 0  0  0  0 64  0  0  1  2  0  0  0  0  0]\n",
            " [ 0  0  0  0  0 63  1  0  1  0  0  0  0  0]\n",
            " [ 1  0  0  0  0  0 69  0  0  0  0  0  0  0]\n",
            " [ 0  0  0  0  0  0  0 56  3  0  0  0  0  0]\n",
            " [ 1  0  0  1  0  0  0  0 57  0  0  0  0  0]\n",
            " [ 0  0  0  0  0  0  0  0  5 55  0  0  0  0]\n",
            " [ 0  1  0  0  0  0  0  0  0  0 74  0  0  0]\n",
            " [ 0  0  0  0  0  0  0  0  3  0  0 54  0  0]\n",
            " [ 0  0  0  0  0  0  0  0  0  0  0  0 76  0]\n",
            " [ 0  0  0  0  0  0  0  0  1  0  0  0  0 78]]\n"
          ]
        },
        {
          "output_type": "display_data",
          "data": {
            "text/plain": [
              "<Figure size 1000x800 with 2 Axes>"
            ],
            "image/png": "[encoded data removed]"
          },
          "metadata": {}
        },
        {
          "output_type": "display_data",
          "data": {
            "text/plain": [
              "<Figure size 1000x800 with 2 Axes>"
            ],
            "image/png": "[encoded data removed]"
          },
          "metadata": {}
        }
      ]
    },
    {
      "cell_type": "markdown",
      "source": [
        "## The model seems promising with high accuracy and correct predictions, We shall test the model now:"
      ],
      "metadata": {
        "id": "RNaZiQtE4hbx"
      }
    },
    {
      "cell_type": "markdown",
      "source": [
        "## Using images from web to test the predixtion accuracy of model on real world data"
      ],
      "metadata": {
        "id": "VN4CfMrF5Npu"
      }
    },
    {
      "cell_type": "code",
      "source": [
        "import numpy as np\n",
        "import requests\n",
        "from PIL import Image\n",
        "from io import BytesIO\n",
        "import matplotlib.pyplot as plt\n",
        "from tensorflow.keras.preprocessing.image import img_to_array"
      ],
      "metadata": {
        "id": "xq5DekxM4SHL"
      },
      "execution_count": null,
      "outputs": []
    },
    {
      "cell_type": "markdown",
      "source": [
        "### Loading and preprocessing image from url"
      ],
      "metadata": {
        "id": "e3wFK33W5aFb"
      }
    },
    {
      "cell_type": "code",
      "source": [
        "def load_and_preprocess_image(image_url, target_size=(32, 32)):\n",
        "    # Fetch the image from URL\n",
        "    response = requests.get(image_url)\n",
        "    img = Image.open(BytesIO(response.content))\n",
        "\n",
        "    # Convert to grayscale (if it's not already)\n",
        "    img = img.convert('L')\n",
        "\n",
        "    # Resize to the target size (32x32)\n",
        "    img = img.resize(target_size)\n",
        "\n",
        "    # Convert image to numpy array\n",
        "    img_array = np.array(img)\n",
        "\n",
        "    # Normalize the image (scale pixel values to [0, 1])\n",
        "    img_array = img_array.astype('float32') / 255.0\n",
        "\n",
        "    # Add an extra dimension for the \"channels\" (since the model expects 4D input)\n",
        "    img_array = np.expand_dims(img_array, axis=-1)  # Shape becomes (32, 32, 1)\n",
        "\n",
        "    # Add batch dimension (the model expects 4D input: (batch_size, height, width, channels))\n",
        "    img_array = np.expand_dims(img_array, axis=0)  # Shape becomes (1, 32, 32, 1)\n",
        "\n",
        "    return img_array\n"
      ],
      "metadata": {
        "id": "n0Y8WJt55XpG"
      },
      "execution_count": null,
      "outputs": []
    },
    {
      "cell_type": "markdown",
      "source": [
        "### Predict with model:"
      ],
      "metadata": {
        "id": "bcuA_R8p5ud1"
      }
    },
    {
      "cell_type": "code",
      "source": [
        "def predict_image(model, image_url):\n",
        "    # Load and preprocess the image\n",
        "    img_array = load_and_preprocess_image(image_url)\n",
        "\n",
        "    # Get the model's prediction\n",
        "    prediction_probs = model.predict(img_array)\n",
        "\n",
        "    # Get the predicted class (index of the maximum probability)\n",
        "    predicted_class_index = np.argmax(prediction_probs)\n",
        "\n",
        "    # Map predicted class index back to the label (using label_mapping_reverse)\n",
        "    label_mapping_reverse = {v: k for k, v in label_mapping.items()}\n",
        "    predicted_label = label_mapping_reverse[predicted_class_index] # Get the string label\n",
        "\n",
        "    return predicted_label, prediction_probs\n"
      ],
      "metadata": {
        "id": "DGnsCLH65nQe"
      },
      "execution_count": null,
      "outputs": []
    },
    {
      "cell_type": "markdown",
      "source": [
        "### Visualise test image and predictions"
      ],
      "metadata": {
        "id": "6ebofRu-53NT"
      }
    },
    {
      "cell_type": "code",
      "source": [
        "def display_prediction(image_url, predicted_label, prediction_probs):\n",
        "    # Load the image for display\n",
        "    response = requests.get(image_url)\n",
        "    img = Image.open(BytesIO(response.content))\n",
        "\n",
        "    # Display the image\n",
        "    plt.imshow(img)\n",
        "    plt.axis('off')\n",
        "\n",
        "    # Print prediction_probs and predicted_label for debugging\n",
        "    print(\"Prediction Probs:\", prediction_probs)\n",
        "    print(\"Predicted Label:\", predicted_label)\n",
        "\n",
        "    # Get the integer index for predicted_label using label_mapping\n",
        "    predicted_class_index = label_mapping[predicted_label]\n",
        "\n",
        "    # Assuming prediction_probs is a 2D array with shape (1, num_classes)\n",
        "    predicted_confidence = prediction_probs[0, predicted_class_index] * 100\n",
        "\n",
        "    # Show the predicted label and confidence\n",
        "    plt.title(f\"Predicted Label: {predicted_label} ({predicted_confidence:.2f}% confidence)\")\n",
        "    plt.show()\n",
        "\n"
      ],
      "metadata": {
        "id": "WMogAXOz50gF"
      },
      "execution_count": null,
      "outputs": []
    },
    {
      "cell_type": "markdown",
      "source": [
        "### Testing Images"
      ],
      "metadata": {
        "id": "-sq05YTr6Cz6"
      }
    },
    {
      "cell_type": "code",
      "source": [
        "# List of image URLs (replace with actual URLs of test images)\n",
        "image_urls = [\n",
        "              'https://t3.ftcdn.net/jpg/09/65/76/94/360_F_965769499_o8z6QfQJM4eJjnuI9qOnLLtT1icpapcq.jpg',\n",
        "              'https://thumb.ac-illust.com/c3/c3f1db3e849f676df427981547fb8dcc_t.jpeg',\n",
        "              'https://www.shutterstock.com/shutterstock/videos/23708545/thumb/1.jpg?ip=x480',\n",
        "              'https://c8.alamy.com/comp/2PX3J70/plus-sign-cross-add-addition-math-mathematics-additional-black-and-white-line-icon-symbol-vector-artwork-clipart-illustration-2PX3J70.jpg'\n",
        "]\n",
        "\n",
        "# Test and display predictions for each image\n",
        "for url in image_urls:\n",
        "    predicted_label, prediction_probs = predict_image(model, url)\n",
        "    display_prediction(url, predicted_label, prediction_probs)\n"
      ],
      "metadata": {
        "colab": {
          "base_uri": "https://localhost:8080/",
          "height": 1000
        },
        "id": "u-jJTitK58-_",
        "outputId": "de376ad2-be90-471c-84de-a4ad9ab00fe0"
      },
      "execution_count": null,
      "outputs": [
        {
          "output_type": "stream",
          "name": "stdout",
          "text": [
            "\u001b[1m1/1\u001b[0m \u001b[32m━━━━━━━━━━━━━━━━━━━━\u001b[0m\u001b[37m\u001b[0m \u001b[1m0s\u001b[0m 19ms/step\n",
            "Prediction Probs: [[2.1018120e-06 6.6094910e-04 4.8051925e-07 1.2373079e-07 7.9705456e-04\n",
            "  2.0729350e-07 5.0495210e-06 2.3388486e-05 1.0752846e-04 1.9029398e-05\n",
            "  1.1894246e-06 1.5692516e-06 9.9838138e-01 5.2195195e-09]]\n",
            "Predicted Label: mul\n"
          ]
        },
        {
          "output_type": "display_data",
          "data": {
            "text/plain": [
              "<Figure size 640x480 with 1 Axes>"
            ],
            "image/png": "[encoded data removed]"
          },
          "metadata": {}
        },
        {
          "output_type": "stream",
          "name": "stdout",
          "text": [
            "\u001b[1m1/1\u001b[0m \u001b[32m━━━━━━━━━━━━━━━━━━━━\u001b[0m\u001b[37m\u001b[0m \u001b[1m0s\u001b[0m 16ms/step\n",
            "Prediction Probs: [[7.0465787e-04 6.3849099e-09 2.1126402e-07 1.1618453e-05 1.2050964e-06\n",
            "  1.7049054e-07 2.0953272e-04 2.0769500e-08 9.9843818e-01 6.3390727e-04\n",
            "  1.1811662e-09 4.4410962e-07 1.9613040e-08 3.0229966e-10]]\n",
            "Predicted Label: 8\n"
          ]
        },
        {
          "output_type": "display_data",
          "data": {
            "text/plain": [
              "<Figure size 640x480 with 1 Axes>"
            ],
            "image/png": "[encoded data removed]"
          },
          "metadata": {}
        },
        {
          "output_type": "stream",
          "name": "stdout",
          "text": [
            "\u001b[1m1/1\u001b[0m \u001b[32m━━━━━━━━━━━━━━━━━━━━\u001b[0m\u001b[37m\u001b[0m \u001b[1m0s\u001b[0m 16ms/step\n",
            "Prediction Probs: [[1.5582797e-03 1.4071260e-04 7.5670850e-06 5.4926854e-03 1.8918101e-05\n",
            "  9.8199987e-01 7.3585506e-03 9.1814254e-06 1.3376514e-03 1.5487121e-03\n",
            "  2.1833239e-05 8.7401859e-05 2.6432181e-05 3.9212115e-04]]\n",
            "Predicted Label: 5\n"
          ]
        },
        {
          "output_type": "display_data",
          "data": {
            "text/plain": [
              "<Figure size 640x480 with 1 Axes>"
            ],
            "image/png": "[encoded data removed]"
          },
          "metadata": {}
        },
        {
          "output_type": "stream",
          "name": "stdout",
          "text": [
            "\u001b[1m1/1\u001b[0m \u001b[32m━━━━━━━━━━━━━━━━━━━━\u001b[0m\u001b[37m\u001b[0m \u001b[1m0s\u001b[0m 28ms/step\n",
            "Prediction Probs: [[3.6479303e-08 1.4997240e-04 4.5058814e-06 3.0537905e-08 5.2815873e-02\n",
            "  5.2433272e-05 1.5684189e-05 1.0532080e-08 7.9021202e-06 2.9215355e-06\n",
            "  9.4694823e-01 2.2206704e-07 4.5117979e-08 2.1496080e-06]]\n",
            "Predicted Label: add\n"
          ]
        },
        {
          "output_type": "display_data",
          "data": {
            "text/plain": [
              "<Figure size 640x480 with 1 Axes>"
            ],
            "image/png": "[encoded data removed]"
          },
          "metadata": {}
        }
      ]
    },
    {
      "cell_type": "markdown",
      "source": [
        "## The predictions are accurate, We can move to next step"
      ],
      "metadata": {
        "id": "bDmKRxkGAiaj"
      }
    },
    {
      "cell_type": "markdown",
      "source": [
        "## Before that we shall save the model in our google drive for future use"
      ],
      "metadata": {
        "id": "bvqI_hVnBb6W"
      }
    },
    {
      "cell_type": "code",
      "source": [
        "model_save_path = '/content/drive/My Drive/models/HandwrittenMathsmodel.keras'\n"
      ],
      "metadata": {
        "id": "Dw-1fvWI7w9o"
      },
      "execution_count": null,
      "outputs": []
    },
    {
      "cell_type": "code",
      "source": [
        "model.save(model_save_path) #model has been succesfully saved"
      ],
      "metadata": {
        "id": "Sar1oMIF7w6V"
      },
      "execution_count": null,
      "outputs": []
    },
    {
      "cell_type": "markdown",
      "source": [
        "# Importing the equation to solve\n",
        "* We will import the image from our local storage\n",
        "* We will then convert the image to binary (black and white)\n",
        "* Then we will find ecah individual character in the image, and crop them\n",
        "* Then we predict each symbol using our model\n",
        "* After that we can reconstruct the entire equation and solve it"
      ],
      "metadata": {
        "id": "fhN7cib0CenT"
      }
    },
    {
      "cell_type": "markdown",
      "source": [
        "### Loading the image from local storage\n",
        "\n"
      ],
      "metadata": {
        "id": "kteaPyKkGR13"
      }
    },
    {
      "cell_type": "code",
      "source": [
        "from google.colab import files\n",
        "import cv2\n",
        "from matplotlib import pyplot as plt\n",
        "\n",
        "# Upload the image file\n",
        "uploaded = files.upload()\n",
        "\n",
        "# Read the image (after uploading it)\n",
        "image_path = next(iter(uploaded))  # Get the file name of the uploaded image\n",
        "img = cv2.imread(image_path, cv2.IMREAD_GRAYSCALE)\n",
        "\n",
        "# Display the image\n",
        "plt.imshow(img, cmap='gray')\n",
        "plt.title('Uploaded Image')\n",
        "plt.axis('off')\n",
        "plt.show()"
      ],
      "metadata": {
        "colab": {
          "base_uri": "https://localhost:8080/",
          "height": 280
        },
        "id": "N6317Bf8GQwc",
        "outputId": "8d60e29c-dcad-41d0-f75f-ab2b730014ed"
      },
      "execution_count": null,
      "outputs": [
        {
          "output_type": "display_data",
          "data": {
            "text/plain": [
              "<IPython.core.display.HTML object>"
            ],
            "text/html": [
              "\n",
              "     <input type=\"file\" id=\"files-3bd3bc39-68e8-4fbe-b93a-aab866ae90ba\" name=\"files[]\" multiple disabled\n",
              "        style=\"border:none\" />\n",
              "     <output id=\"result-3bd3bc39-68e8-4fbe-b93a-aab866ae90ba\">\n",
              "      Upload widget is only available when the cell has been executed in the\n",
              "      current browser session. Please rerun this cell to enable.\n",
              "      </output>\n",
              "      <script>// Copyright 2017 Google LLC\n",
              "//\n",
              "// Licensed under the Apache License, Version 2.0 (the \"License\");\n",
              "// you may not use this file except in compliance with the License.\n",
              "// You may obtain a copy of the License at\n",
              "//\n",
              "//      http://www.apache.org/licenses/LICENSE-2.0\n",
              "//\n",
              "// Unless required by applicable law or agreed to in writing, software\n",
              "// distributed under the License is distributed on an \"AS IS\" BASIS,\n",
              "// WITHOUT WARRANTIES OR CONDITIONS OF ANY KIND, either express or implied.\n",
              "// See the License for the specific language governing permissions and\n",
              "// limitations under the License.\n",
              "\n",
              "/**\n",
              " * @fileoverview Helpers for google.colab Python module.\n",
              " */\n",
              "(function(scope) {\n",
              "function span(text, styleAttributes = {}) {\n",
              "  const element = document.createElement('span');\n",
              "  element.textContent = text;\n",
              "  for (const key of Object.keys(styleAttributes)) {\n",
              "    element.style[key] = styleAttributes[key];\n",
              "  }\n",
              "  return element;\n",
              "}\n",
              "\n",
              "// Max number of bytes which will be uploaded at a time.\n",
              "const MAX_PAYLOAD_SIZE = 100 * 1024;\n",
              "\n",
              "function _uploadFiles(inputId, outputId) {\n",
              "  const steps = uploadFilesStep(inputId, outputId);\n",
              "  const outputElement = document.getElementById(outputId);\n",
              "  // Cache steps on the outputElement to make it available for the next call\n",
              "  // to uploadFilesContinue from Python.\n",
              "  outputElement.steps = steps;\n",
              "\n",
              "  return _uploadFilesContinue(outputId);\n",
              "}\n",
              "\n",
              "// This is roughly an async generator (not supported in the browser yet),\n",
              "// where there are multiple asynchronous steps and the Python side is going\n",
              "// to poll for completion of each step.\n",
              "// This uses a Promise to block the python side on completion of each step,\n",
              "// then passes the result of the previous step as the input to the next step.\n",
              "function _uploadFilesContinue(outputId) {\n",
              "  const outputElement = document.getElementById(outputId);\n",
              "  const steps = outputElement.steps;\n",
              "\n",
              "  const next = steps.next(outputElement.lastPromiseValue);\n",
              "  return Promise.resolve(next.value.promise).then((value) => {\n",
              "    // Cache the last promise value to make it available to the next\n",
              "    // step of the generator.\n",
              "    outputElement.lastPromiseValue = value;\n",
              "    return next.value.response;\n",
              "  });\n",
              "}\n",
              "\n",
              "/**\n",
              " * Generator function which is called between each async step of the upload\n",
              " * process.\n",
              " * @param {string} inputId Element ID of the input file picker element.\n",
              " * @param {string} outputId Element ID of the output display.\n",
              " * @return {!Iterable<!Object>} Iterable of next steps.\n",
              " */\n",
              "function* uploadFilesStep(inputId, outputId) {\n",
              "  const inputElement = document.getElementById(inputId);\n",
              "  inputElement.disabled = false;\n",
              "\n",
              "  const outputElement = document.getElementById(outputId);\n",
              "  outputElement.innerHTML = '';\n",
              "\n",
              "  const pickedPromise = new Promise((resolve) => {\n",
              "    inputElement.addEventListener('change', (e) => {\n",
              "      resolve(e.target.files);\n",
              "    });\n",
              "  });\n",
              "\n",
              "  const cancel = document.createElement('button');\n",
              "  inputElement.parentElement.appendChild(cancel);\n",
              "  cancel.textContent = 'Cancel upload';\n",
              "  const cancelPromise = new Promise((resolve) => {\n",
              "    cancel.onclick = () => {\n",
              "      resolve(null);\n",
              "    };\n",
              "  });\n",
              "\n",
              "  // Wait for the user to pick the files.\n",
              "  const files = yield {\n",
              "    promise: Promise.race([pickedPromise, cancelPromise]),\n",
              "    response: {\n",
              "      action: 'starting',\n",
              "    }\n",
              "  };\n",
              "\n",
              "  cancel.remove();\n",
              "\n",
              "  // Disable the input element since further picks are not allowed.\n",
              "  inputElement.disabled = true;\n",
              "\n",
              "  if (!files) {\n",
              "    return {\n",
              "      response: {\n",
              "        action: 'complete',\n",
              "      }\n",
              "    };\n",
              "  }\n",
              "\n",
              "  for (const file of files) {\n",
              "    const li = document.createElement('li');\n",
              "    li.append(span(file.name, {fontWeight: 'bold'}));\n",
              "    li.append(span(\n",
              "        `(${file.type || 'n/a'}) - ${file.size} bytes, ` +\n",
              "        `last modified: ${\n",
              "            file.lastModifiedDate ? file.lastModifiedDate.toLocaleDateString() :\n",
              "                                    'n/a'} - `));\n",
              "    const percent = span('0% done');\n",
              "    li.appendChild(percent);\n",
              "\n",
              "    outputElement.appendChild(li);\n",
              "\n",
              "    const fileDataPromise = new Promise((resolve) => {\n",
              "      const reader = new FileReader();\n",
              "      reader.onload = (e) => {\n",
              "        resolve(e.target.result);\n",
              "      };\n",
              "      reader.readAsArrayBuffer(file);\n",
              "    });\n",
              "    // Wait for the data to be ready.\n",
              "    let fileData = yield {\n",
              "      promise: fileDataPromise,\n",
              "      response: {\n",
              "        action: 'continue',\n",
              "      }\n",
              "    };\n",
              "\n",
              "    // Use a chunked sending to avoid message size limits. See b/62115660.\n",
              "    let position = 0;\n",
              "    do {\n",
              "      const length = Math.min(fileData.byteLength - position, MAX_PAYLOAD_SIZE);\n",
              "      const chunk = new Uint8Array(fileData, position, length);\n",
              "      position += length;\n",
              "\n",
              "      const base64 = btoa(String.fromCharCode.apply(null, chunk));\n",
              "      yield {\n",
              "        response: {\n",
              "          action: 'append',\n",
              "          file: file.name,\n",
              "          data: base64,\n",
              "        },\n",
              "      };\n",
              "\n",
              "      let percentDone = fileData.byteLength === 0 ?\n",
              "          100 :\n",
              "          Math.round((position / fileData.byteLength) * 100);\n",
              "      percent.textContent = `${percentDone}% done`;\n",
              "\n",
              "    } while (position < fileData.byteLength);\n",
              "  }\n",
              "\n",
              "  // All done.\n",
              "  yield {\n",
              "    response: {\n",
              "      action: 'complete',\n",
              "    }\n",
              "  };\n",
              "}\n",
              "\n",
              "scope.google = scope.google || {};\n",
              "scope.google.colab = scope.google.colab || {};\n",
              "scope.google.colab._files = {\n",
              "  _uploadFiles,\n",
              "  _uploadFilesContinue,\n",
              "};\n",
              "})(self);\n",
              "</script> "
            ]
          },
          "metadata": {}
        },
        {
          "output_type": "stream",
          "name": "stdout",
          "text": [
            "Saving test equation epsilon.jpg to test equation epsilon.jpg\n"
          ]
        },
        {
          "output_type": "display_data",
          "data": {
            "text/plain": [
              "<Figure size 640x480 with 1 Axes>"
            ],
            "image/png": "[encoded data removed]"
          },
          "metadata": {}
        }
      ]
    },
    {
      "cell_type": "markdown",
      "source": [
        "## Image preprocessing and symbol segmentation\n",
        "### Steps taken:\n",
        "* We apply inverse binary thresholding to make the image black and white for easy contouring.\n",
        "* We then find the contours of image for each symbol and sort them to preserve their order\n",
        "* We then crop the symbols with their bounding rectangle and add padding around the box to prevent tight cropping along with noise reduction.\n",
        "* We then dynamically apply padding to symbols to preserve their shape during resizing into an image of 32*32 pixels; symbols like 1 and - would be stretched and give inorrect outputs when reshaping if not dynamically padded\n",
        "* We then correct the binarization from black backround and white symbol to white background and black symbol as the model has been trained on.\n",
        "* These preprocessed images can be used by model to predict each symbol, and we store each predicted ouotput in a list, which can be later converted into a single equation to be solved using the inbuilt pyhton eval() function"
      ],
      "metadata": {
        "id": "VC0870cQEiG-"
      }
    },
    {
      "cell_type": "code",
      "source": [
        "import cv2\n",
        "import numpy as np\n",
        "from matplotlib import pyplot as plt\n",
        "\n",
        "def preprocess_and_segment_equation(img):\n",
        "    # Apply inverse binary thresholding\n",
        "    _, thresh_img = cv2.threshold(img, 150, 255, cv2.THRESH_BINARY_INV)\n",
        "    '''\n",
        "    This thresholding converts the image to black and white:\n",
        "    - Pixels greater than 150 are set to black (0).\n",
        "    - Pixels less than 150 are set to white (255).\n",
        "    '''\n",
        "\n",
        "    # Find contours of the symbols (individual characters or digits)\n",
        "    contours, _ = cv2.findContours(thresh_img, cv2.RETR_EXTERNAL, cv2.CHAIN_APPROX_SIMPLE)\n",
        "\n",
        "    # Sort contours from left to right (important for reconstructing the equation order)\n",
        "    contours = sorted(contours, key=lambda ctr: cv2.boundingRect(ctr)[0])\n",
        "\n",
        "    # List to store cropped and processed symbols\n",
        "    cropped_symbols = []\n",
        "\n",
        "    for contour in contours:\n",
        "        x, y, w, h = cv2.boundingRect(contour)\n",
        "        '''\n",
        "        x, y: Coordinates of the top-left corner of the bounding box.\n",
        "        w: The width of the bounding box.\n",
        "        h: The height of the bounding box.\n",
        "        '''\n",
        "        # Adding padding around the bounding box to avoid tight cropping\n",
        "        padding = 10\n",
        "        x, y, w, h = x - padding, y - padding, w + 2 * padding, h + 2 * padding\n",
        "\n",
        "        # Only consider contours that are large enough (filter out noise)\n",
        "        if w > 20 and h > 20:\n",
        "            # Crop the symbol from the thresholded image\n",
        "            symbol = thresh_img[y:y+h, x:x+w]\n",
        "\n",
        "            # Resize the symbol to 32x32 while maintaining aspect ratio (with padding)\n",
        "            symbol_resized = resize_with_dynamic_padding(symbol, target_size=(32, 32))\n",
        "\n",
        "            bin_corrected_symbols = cv2.bitwise_not(symbol_resized) #To correct the image binarization\n",
        "            cropped_symbols.append(bin_corrected_symbols)\n",
        "    return cropped_symbols, thresh_img\n",
        "\n",
        "\n",
        "def resize_with_dynamic_padding(symbol, target_size=(32, 32)):\n",
        "    \"\"\"\n",
        "    Resizes the symbol to fit within a 32x32 canvas while maintaining its aspect ratio.\n",
        "    If the aspect ratio is different from 1:1, it pads the symbol to the center.\n",
        "    \"\"\"\n",
        "    h, w = symbol.shape\n",
        "\n",
        "    # If the symbol is taller than it is wide, resize based on height\n",
        "    if h > w:\n",
        "        scaling_factor = target_size[0] / h  # scale based on height\n",
        "    else:\n",
        "        scaling_factor = target_size[1] / w  # scale based on width\n",
        "\n",
        "    # Calculate the new dimensions while maintaining the aspect ratio\n",
        "    new_h = int(h * scaling_factor)\n",
        "    new_w = int(w * scaling_factor)\n",
        "\n",
        "    # Resize the symbol to the calculated dimensions\n",
        "    resized_symbol = cv2.resize(symbol, (new_w, new_h), interpolation=cv2.INTER_AREA)\n",
        "\n",
        "    # Create a blank (black) canvas of the target size (black background)\n",
        "    padded_symbol = np.zeros(target_size, dtype=np.uint8)  # Black background\n",
        "\n",
        "    # Calculate the top-left corner where the resized symbol should be placed\n",
        "    top = (target_size[0] - new_h) // 2\n",
        "    left = (target_size[1] - new_w) // 2\n",
        "\n",
        "    # Place the resized symbol onto the canvas (centered)\n",
        "    padded_symbol[top:top+new_h, left:left+new_w] = resized_symbol\n",
        "\n",
        "    return padded_symbol\n",
        "\n",
        "\n",
        "# Example of running the preprocessing\n",
        "cropped_symbols, thresh_img = preprocess_and_segment_equation(img)\n",
        "\n",
        "# Display the thresholded image\n",
        "plt.imshow(thresh_img, cmap='gray')\n",
        "plt.title('Thresholded Image')\n",
        "plt.show()\n",
        "\n",
        "# Display the cropped symbols\n",
        "for i, symbol in enumerate(cropped_symbols):\n",
        "    plt.subplot(1, len(cropped_symbols), i+1)\n",
        "    plt.imshow(symbol, cmap='gray')\n",
        "    plt.axis('off')\n",
        "plt.show()\n"
      ],
      "metadata": {
        "colab": {
          "base_uri": "https://localhost:8080/",
          "height": 314
        },
        "id": "EWqPFrEkRNpw",
        "outputId": "8a00154b-7b20-4b85-bedd-6687c2cf485f"
      },
      "execution_count": null,
      "outputs": [
        {
          "output_type": "display_data",
          "data": {
            "text/plain": [
              "<Figure size 640x480 with 1 Axes>"
            ],
            "image/png": "[encoded data removed]"
          },
          "metadata": {}
        },
        {
          "output_type": "display_data",
          "data": {
            "text/plain": [
              "<Figure size 640x480 with 9 Axes>"
            ],
            "image/png": "[encoded data removed]"
          },
          "metadata": {}
        }
      ]
    },
    {
      "cell_type": "markdown",
      "source": [
        "### Predicting each symbol"
      ],
      "metadata": {
        "id": "-KMUkGgPHf07"
      }
    },
    {
      "cell_type": "code",
      "source": [
        "from tensorflow.keras.models import load_model\n",
        "import numpy as np\n",
        "\n",
        "# # Mount Google Drive to access the uploaded dataset\n",
        "# from google.colab import drive\n",
        "# drive.mount('/content/drive')\n",
        "\n",
        "# # Load the trained model (assuming it's already saved in Google Drive)\n",
        "model = load_model('/content/drive/My Drive/models/HandwrittenMathsmodel.keras')\n",
        "\n",
        "\n",
        "# Define the mapping from label indices to the actual symbols (digits, operators)\n",
        "label_mapping = {\n",
        "    '0': 0, '1': 1, '2': 2, '3': 3, '4': 4, '5': 5, '6': 6, '7': 7, '8': 8, '9': 9,\n",
        "    'add': 10, 'div': 11, 'mul': 12, 'sub': 13\n",
        "}\n",
        "\n",
        "# Reverse the label mapping for easy lookup\n",
        "label_mapping_reverse = {v: k for k, v in label_mapping.items()}\n",
        "\n",
        "def predict_symbol(symbol_image):\n",
        "    # Normalize and reshape the symbol image to fit the model input shape\n",
        "    symbol_image = symbol_image.astype('float32') / 255.0  # Normalize\n",
        "    symbol_image = np.expand_dims(symbol_image, axis=-1)  # Add channel dimension\n",
        "    symbol_image = np.expand_dims(symbol_image, axis=0)  # Add batch dimension\n",
        "\n",
        "    # Predict using the model\n",
        "    prediction_probs = model.predict(symbol_image)\n",
        "    predicted_class_index = np.argmax(prediction_probs)  # Get the predicted class (symbol)\n",
        "\n",
        "    # Get the corresponding label (digit/operator)\n",
        "    predicted_label = label_mapping_reverse[predicted_class_index]\n",
        "\n",
        "    return predicted_label\n",
        "\n",
        "# Predict each symbol\n",
        "predicted_equation = []\n",
        "for symbol in cropped_symbols:\n",
        "    predicted_label = predict_symbol(symbol)\n",
        "    predicted_equation.append(predicted_label)\n",
        "\n",
        "# Output the predicted equation\n",
        "print(\"Predicted Equation:\", ''.join(predicted_equation))\n"
      ],
      "metadata": {
        "colab": {
          "base_uri": "https://localhost:8080/"
        },
        "id": "iLy0Ig3sGp8h",
        "outputId": "e380c30f-1961-46f6-cf93-5ac93bf10e67"
      },
      "execution_count": null,
      "outputs": [
        {
          "output_type": "stream",
          "name": "stdout",
          "text": [
            "\u001b[1m1/1\u001b[0m \u001b[32m━━━━━━━━━━━━━━━━━━━━\u001b[0m\u001b[37m\u001b[0m \u001b[1m0s\u001b[0m 286ms/step\n",
            "\u001b[1m1/1\u001b[0m \u001b[32m━━━━━━━━━━━━━━━━━━━━\u001b[0m\u001b[37m\u001b[0m \u001b[1m0s\u001b[0m 28ms/step\n",
            "\u001b[1m1/1\u001b[0m \u001b[32m━━━━━━━━━━━━━━━━━━━━\u001b[0m\u001b[37m\u001b[0m \u001b[1m0s\u001b[0m 35ms/step\n",
            "\u001b[1m1/1\u001b[0m \u001b[32m━━━━━━━━━━━━━━━━━━━━\u001b[0m\u001b[37m\u001b[0m \u001b[1m0s\u001b[0m 27ms/step\n",
            "\u001b[1m1/1\u001b[0m \u001b[32m━━━━━━━━━━━━━━━━━━━━\u001b[0m\u001b[37m\u001b[0m \u001b[1m0s\u001b[0m 28ms/step\n",
            "\u001b[1m1/1\u001b[0m \u001b[32m━━━━━━━━━━━━━━━━━━━━\u001b[0m\u001b[37m\u001b[0m \u001b[1m0s\u001b[0m 30ms/step\n",
            "\u001b[1m1/1\u001b[0m \u001b[32m━━━━━━━━━━━━━━━━━━━━\u001b[0m\u001b[37m\u001b[0m \u001b[1m0s\u001b[0m 27ms/step\n",
            "\u001b[1m1/1\u001b[0m \u001b[32m━━━━━━━━━━━━━━━━━━━━\u001b[0m\u001b[37m\u001b[0m \u001b[1m0s\u001b[0m 26ms/step\n",
            "\u001b[1m1/1\u001b[0m \u001b[32m━━━━━━━━━━━━━━━━━━━━\u001b[0m\u001b[37m\u001b[0m \u001b[1m0s\u001b[0m 30ms/step\n",
            "Predicted Equation: 15mul6div9sub73\n"
          ]
        }
      ]
    },
    {
      "cell_type": "markdown",
      "source": [
        "### The prediction is correct, we can move to next step\n"
      ],
      "metadata": {
        "id": "Jps1QTC4Lpur"
      }
    },
    {
      "cell_type": "markdown",
      "source": [
        "## Parsing the equation and solving it:\n",
        "* We stitch the individual elements that were predicted into one single string\n",
        "* We convert symbol classes into individual symbols (for example 'add'-> '+')\n",
        "* We solve the equation using built in \"eval\" function"
      ],
      "metadata": {
        "id": "prY9Aw4iWyBf"
      }
    },
    {
      "cell_type": "code",
      "source": [
        "def parse_and_solve(predicted_list):\n",
        "    # Define a mapping for the operator words to symbols\n",
        "    operator_map = {\n",
        "        'add': '+',\n",
        "        'mul': '*',\n",
        "        'div': '/',\n",
        "        'sub': '-'\n",
        "    }\n",
        "\n",
        "    # Initialize an empty string to hold the equation\n",
        "    equation = \"\"\n",
        "\n",
        "    # Stitch the predicted symbols and operators into a valid equation\n",
        "    for item in predicted_list:\n",
        "        if item in operator_map:\n",
        "            # Replace operators with their symbols\n",
        "            equation += operator_map[item]\n",
        "        else:\n",
        "            # Add the digits as they are\n",
        "            equation += item\n",
        "\n",
        "    # Print the stitched equation\n",
        "    print(f\"Equation: {equation}\")\n",
        "\n",
        "    try:\n",
        "        # Evaluate the equation safely\n",
        "        result = eval(equation)\n",
        "        print(f\"Solution: {result}\")\n",
        "        return equation, result  # Return both the equation and the result\n",
        "    except Exception as e:\n",
        "        print(f\"Error evaluating the equation: {e}\")\n",
        "        return equation, None  # Return the equation and None if there was an error\n"
      ],
      "metadata": {
        "id": "nCLWl9y0Hzxk"
      },
      "execution_count": null,
      "outputs": []
    },
    {
      "cell_type": "markdown",
      "source": [
        "**Now that the function is defined, we pass our predicted equation into it**"
      ],
      "metadata": {
        "id": "wM_zM6GnXUDJ"
      }
    },
    {
      "cell_type": "code",
      "source": [
        "parse_and_solve(predicted_equation)\n"
      ],
      "metadata": {
        "colab": {
          "base_uri": "https://localhost:8080/"
        },
        "id": "BMKVSSvrWK9C",
        "outputId": "c02806e7-57d1-4495-ded7-aaf228f9446f"
      },
      "execution_count": null,
      "outputs": [
        {
          "output_type": "stream",
          "name": "stdout",
          "text": [
            "Equation: 15*6/9-73\n",
            "Solution: -63.0\n"
          ]
        },
        {
          "output_type": "execute_result",
          "data": {
            "text/plain": [
              "-63.0"
            ]
          },
          "metadata": {},
          "execution_count": 9
        }
      ]
    },
    {
      "cell_type": "markdown",
      "source": [
        "#Creating a user interface for better user experience:"
      ],
      "metadata": {
        "id": "eDwiPwbJaaRE"
      }
    },
    {
      "cell_type": "markdown",
      "source": [
        "### Step 1, compiling all the boxes in the input section into one"
      ],
      "metadata": {
        "id": "gl0kyn94hnKr"
      }
    },
    {
      "cell_type": "code",
      "source": [
        "from google.colab import files\n",
        "import cv2\n",
        "from matplotlib import pyplot as plt\n",
        "import numpy as np\n",
        "from tensorflow.keras.models import load_model\n",
        "\n",
        "# Upload the image file\n",
        "uploaded = files.upload()\n",
        "\n",
        "# Read the image (after uploading it)\n",
        "image_path = next(iter(uploaded))  # Get the file name of the uploaded image\n",
        "img = cv2.imread(image_path, cv2.IMREAD_GRAYSCALE)\n",
        "\n",
        "# Display the image\n",
        "plt.imshow(img, cmap='gray')\n",
        "plt.title('Uploaded Image')\n",
        "plt.axis('off')\n",
        "plt.show()\n",
        "\n",
        "def preprocess_and_segment_equation(img):\n",
        "    # Apply inverse binary thresholding\n",
        "    _, thresh_img = cv2.threshold(img, 150, 255, cv2.THRESH_BINARY_INV)\n",
        "    '''\n",
        "    This thresholding converts the image to black and white:\n",
        "    - Pixels greater than 150 are set to black (0).\n",
        "    - Pixels less than 150 are set to white (255).\n",
        "    '''\n",
        "\n",
        "    # Find contours of the symbols (individual characters or digits)\n",
        "    contours, _ = cv2.findContours(thresh_img, cv2.RETR_EXTERNAL, cv2.CHAIN_APPROX_SIMPLE)\n",
        "\n",
        "    # Sort contours from left to right (important for reconstructing the equation order)\n",
        "    contours = sorted(contours, key=lambda ctr: cv2.boundingRect(ctr)[0])\n",
        "\n",
        "    # List to store cropped and processed symbols\n",
        "    cropped_symbols = []\n",
        "\n",
        "    for contour in contours:\n",
        "        x, y, w, h = cv2.boundingRect(contour)\n",
        "        '''\n",
        "        x, y: Coordinates of the top-left corner of the bounding box.\n",
        "        w: The width of the bounding box.\n",
        "        h: The height of the bounding box.\n",
        "        '''\n",
        "        # Adding padding around the bounding box to avoid tight cropping\n",
        "        padding = 10\n",
        "        x, y, w, h = x - padding, y - padding, w + 2 * padding, h + 2 * padding\n",
        "\n",
        "        # Only consider contours that are large enough (filter out noise)\n",
        "        if w > 20 and h > 20:\n",
        "            # Crop the symbol from the thresholded image\n",
        "            symbol = thresh_img[y:y+h, x:x+w]\n",
        "\n",
        "            # Resize the symbol to 32x32 while maintaining aspect ratio (with padding)\n",
        "            symbol_resized = resize_with_dynamic_padding(symbol, target_size=(32, 32))\n",
        "\n",
        "            bin_corrected_symbols = cv2.bitwise_not(symbol_resized) #To correct the image binarization\n",
        "            cropped_symbols.append(bin_corrected_symbols)\n",
        "    return cropped_symbols, thresh_img\n",
        "\n",
        "def resize_with_dynamic_padding(symbol, target_size=(32, 32)):\n",
        "    \"\"\"\n",
        "    Resizes the symbol to fit within a 32x32 canvas while maintaining its aspect ratio.\n",
        "    If the aspect ratio is different from 1:1, it pads the symbol to the center.\n",
        "    \"\"\"\n",
        "    h, w = symbol.shape\n",
        "\n",
        "    # If the symbol is taller than it is wide, resize based on height\n",
        "    if h > w:\n",
        "        scaling_factor = target_size[0] / h  # scale based on height\n",
        "    else:\n",
        "        scaling_factor = target_size[1] / w  # scale based on width\n",
        "\n",
        "    # Calculate the new dimensions while maintaining the aspect ratio\n",
        "    new_h = int(h * scaling_factor)\n",
        "    new_w = int(w * scaling_factor)\n",
        "\n",
        "    # Resize the symbol to the calculated dimensions\n",
        "    resized_symbol = cv2.resize(symbol, (new_w, new_h), interpolation=cv2.INTER_AREA)\n",
        "\n",
        "    # Create a blank (black) canvas of the target size (black background)\n",
        "    padded_symbol = np.zeros(target_size, dtype=np.uint8)  # Black background\n",
        "\n",
        "    # Calculate the top-left corner where the resized symbol should be placed\n",
        "    top = (target_size[0] - new_h) // 2\n",
        "    left = (target_size[1] - new_w) // 2\n",
        "\n",
        "    # Place the resized symbol onto the canvas (centered)\n",
        "    padded_symbol[top:top+new_h, left:left+new_w] = resized_symbol\n",
        "\n",
        "    return padded_symbol\n",
        "\n",
        "# Example of running the preprocessing\n",
        "cropped_symbols, thresh_img = preprocess_and_segment_equation(img)\n",
        "\n",
        "# Display the thresholded image\n",
        "plt.imshow(thresh_img, cmap='gray')\n",
        "plt.title('Thresholded Image')\n",
        "plt.show()\n",
        "\n",
        "# Display the cropped symbols\n",
        "for i, symbol in enumerate(cropped_symbols):\n",
        "    plt.subplot(1, len(cropped_symbols), i+1)\n",
        "    plt.imshow(symbol, cmap='gray')\n",
        "    plt.axis('off')\n",
        "plt.show()\n",
        "\n",
        "# Mount Google Drive to access the uploaded dataset\n",
        "from google.colab import drive\n",
        "drive.mount('/content/drive')\n",
        "\n",
        "# Load the trained model (assuming it's already saved in Google Drive)\n",
        "model = load_model('/content/drive/My Drive/models/HandwrittenMathsmodel.keras')\n",
        "\n",
        "# Define the mapping from label indices to the actual symbols (digits, operators)\n",
        "label_mapping = {\n",
        "    '0': 0, '1': 1, '2': 2, '3': 3, '4': 4, '5': 5, '6': 6, '7': 7, '8': 8, '9': 9,\n",
        "    'add': 10, 'div': 11, 'mul': 12, 'sub': 13\n",
        "}\n",
        "\n",
        "# Reverse the label mapping for easy lookup\n",
        "label_mapping_reverse = {v: k for k, v in label_mapping.items()}\n",
        "\n",
        "def predict_symbol(symbol_image):\n",
        "    # Normalize and reshape the symbol image to fit the model input shape\n",
        "    symbol_image = symbol_image.astype('float32') / 255.0  # Normalize\n",
        "    symbol_image = np.expand_dims(symbol_image, axis=-1)  # Add channel dimension\n",
        "    symbol_image = np.expand_dims(symbol_image, axis=0)  # Add batch dimension\n",
        "\n",
        "    # Predict using the model\n",
        "    prediction_probs = model.predict(symbol_image)\n",
        "    predicted_class_index = np.argmax(prediction_probs)  # Get the predicted class (symbol)\n",
        "\n",
        "    # Get the corresponding label (digit/operator)\n",
        "    predicted_label = label_mapping_reverse[predicted_class_index]\n",
        "\n",
        "    return predicted_label\n",
        "\n",
        "# Predict each symbol\n",
        "predicted_equation = []\n",
        "for symbol in cropped_symbols:\n",
        "    predicted_label = predict_symbol(symbol)\n",
        "    predicted_equation.append(predicted_label)\n",
        "\n",
        "def parse_and_solve(predicted_list):\n",
        "    # Define a mapping for the operator words to symbols\n",
        "    operator_map = {\n",
        "        'add': '+',\n",
        "        'mul': '*',\n",
        "        'div': '/',\n",
        "        'sub': '-'\n",
        "    }\n",
        "\n",
        "\n",
        "    # Initialize an empty string to hold the equation\n",
        "    equation = \"\"\n",
        "\n",
        "    # Stitch the predicted symbols and operators into a valid equation\n",
        "    for item in predicted_list:\n",
        "        if item in operator_map:\n",
        "            # Replace operators with their symbols\n",
        "            equation += operator_map[item]\n",
        "        else:\n",
        "            # Add the digits as they are\n",
        "            equation += item\n",
        "\n",
        "    # Print the stitched equation\n",
        "    print(f\"Equation: {equation}\")\n",
        "\n",
        "    try:\n",
        "        # Evaluate the equation safely\n",
        "        result = eval(equation)\n",
        "        print(f\"Solution: {result}\")\n",
        "        return result\n",
        "    except Exception as e:\n",
        "        print(f\"Error evaluating the equation: {e}\")\n",
        "        return None\n",
        "\n",
        "parse_and_solve(predicted_equation)\n"
      ],
      "metadata": {
        "colab": {
          "base_uri": "https://localhost:8080/",
          "height": 802
        },
        "id": "PWtcYULJdEwS",
        "outputId": "0f3bd1b2-806a-4b8a-faee-eb31a883a71c"
      },
      "execution_count": null,
      "outputs": [
        {
          "output_type": "display_data",
          "data": {
            "text/plain": [
              "<IPython.core.display.HTML object>"
            ],
            "text/html": [
              "\n",
              "     <input type=\"file\" id=\"files-a5c6d850-9578-4e5b-91da-a8a4dd14cddc\" name=\"files[]\" multiple disabled\n",
              "        style=\"border:none\" />\n",
              "     <output id=\"result-a5c6d850-9578-4e5b-91da-a8a4dd14cddc\">\n",
              "      Upload widget is only available when the cell has been executed in the\n",
              "      current browser session. Please rerun this cell to enable.\n",
              "      </output>\n",
              "      <script>// Copyright 2017 Google LLC\n",
              "//\n",
              "// Licensed under the Apache License, Version 2.0 (the \"License\");\n",
              "// you may not use this file except in compliance with the License.\n",
              "// You may obtain a copy of the License at\n",
              "//\n",
              "//      http://www.apache.org/licenses/LICENSE-2.0\n",
              "//\n",
              "// Unless required by applicable law or agreed to in writing, software\n",
              "// distributed under the License is distributed on an \"AS IS\" BASIS,\n",
              "// WITHOUT WARRANTIES OR CONDITIONS OF ANY KIND, either express or implied.\n",
              "// See the License for the specific language governing permissions and\n",
              "// limitations under the License.\n",
              "\n",
              "/**\n",
              " * @fileoverview Helpers for google.colab Python module.\n",
              " */\n",
              "(function(scope) {\n",
              "function span(text, styleAttributes = {}) {\n",
              "  const element = document.createElement('span');\n",
              "  element.textContent = text;\n",
              "  for (const key of Object.keys(styleAttributes)) {\n",
              "    element.style[key] = styleAttributes[key];\n",
              "  }\n",
              "  return element;\n",
              "}\n",
              "\n",
              "// Max number of bytes which will be uploaded at a time.\n",
              "const MAX_PAYLOAD_SIZE = 100 * 1024;\n",
              "\n",
              "function _uploadFiles(inputId, outputId) {\n",
              "  const steps = uploadFilesStep(inputId, outputId);\n",
              "  const outputElement = document.getElementById(outputId);\n",
              "  // Cache steps on the outputElement to make it available for the next call\n",
              "  // to uploadFilesContinue from Python.\n",
              "  outputElement.steps = steps;\n",
              "\n",
              "  return _uploadFilesContinue(outputId);\n",
              "}\n",
              "\n",
              "// This is roughly an async generator (not supported in the browser yet),\n",
              "// where there are multiple asynchronous steps and the Python side is going\n",
              "// to poll for completion of each step.\n",
              "// This uses a Promise to block the python side on completion of each step,\n",
              "// then passes the result of the previous step as the input to the next step.\n",
              "function _uploadFilesContinue(outputId) {\n",
              "  const outputElement = document.getElementById(outputId);\n",
              "  const steps = outputElement.steps;\n",
              "\n",
              "  const next = steps.next(outputElement.lastPromiseValue);\n",
              "  return Promise.resolve(next.value.promise).then((value) => {\n",
              "    // Cache the last promise value to make it available to the next\n",
              "    // step of the generator.\n",
              "    outputElement.lastPromiseValue = value;\n",
              "    return next.value.response;\n",
              "  });\n",
              "}\n",
              "\n",
              "/**\n",
              " * Generator function which is called between each async step of the upload\n",
              " * process.\n",
              " * @param {string} inputId Element ID of the input file picker element.\n",
              " * @param {string} outputId Element ID of the output display.\n",
              " * @return {!Iterable<!Object>} Iterable of next steps.\n",
              " */\n",
              "function* uploadFilesStep(inputId, outputId) {\n",
              "  const inputElement = document.getElementById(inputId);\n",
              "  inputElement.disabled = false;\n",
              "\n",
              "  const outputElement = document.getElementById(outputId);\n",
              "  outputElement.innerHTML = '';\n",
              "\n",
              "  const pickedPromise = new Promise((resolve) => {\n",
              "    inputElement.addEventListener('change', (e) => {\n",
              "      resolve(e.target.files);\n",
              "    });\n",
              "  });\n",
              "\n",
              "  const cancel = document.createElement('button');\n",
              "  inputElement.parentElement.appendChild(cancel);\n",
              "  cancel.textContent = 'Cancel upload';\n",
              "  const cancelPromise = new Promise((resolve) => {\n",
              "    cancel.onclick = () => {\n",
              "      resolve(null);\n",
              "    };\n",
              "  });\n",
              "\n",
              "  // Wait for the user to pick the files.\n",
              "  const files = yield {\n",
              "    promise: Promise.race([pickedPromise, cancelPromise]),\n",
              "    response: {\n",
              "      action: 'starting',\n",
              "    }\n",
              "  };\n",
              "\n",
              "  cancel.remove();\n",
              "\n",
              "  // Disable the input element since further picks are not allowed.\n",
              "  inputElement.disabled = true;\n",
              "\n",
              "  if (!files) {\n",
              "    return {\n",
              "      response: {\n",
              "        action: 'complete',\n",
              "      }\n",
              "    };\n",
              "  }\n",
              "\n",
              "  for (const file of files) {\n",
              "    const li = document.createElement('li');\n",
              "    li.append(span(file.name, {fontWeight: 'bold'}));\n",
              "    li.append(span(\n",
              "        `(${file.type || 'n/a'}) - ${file.size} bytes, ` +\n",
              "        `last modified: ${\n",
              "            file.lastModifiedDate ? file.lastModifiedDate.toLocaleDateString() :\n",
              "                                    'n/a'} - `));\n",
              "    const percent = span('0% done');\n",
              "    li.appendChild(percent);\n",
              "\n",
              "    outputElement.appendChild(li);\n",
              "\n",
              "    const fileDataPromise = new Promise((resolve) => {\n",
              "      const reader = new FileReader();\n",
              "      reader.onload = (e) => {\n",
              "        resolve(e.target.result);\n",
              "      };\n",
              "      reader.readAsArrayBuffer(file);\n",
              "    });\n",
              "    // Wait for the data to be ready.\n",
              "    let fileData = yield {\n",
              "      promise: fileDataPromise,\n",
              "      response: {\n",
              "        action: 'continue',\n",
              "      }\n",
              "    };\n",
              "\n",
              "    // Use a chunked sending to avoid message size limits. See b/62115660.\n",
              "    let position = 0;\n",
              "    do {\n",
              "      const length = Math.min(fileData.byteLength - position, MAX_PAYLOAD_SIZE);\n",
              "      const chunk = new Uint8Array(fileData, position, length);\n",
              "      position += length;\n",
              "\n",
              "      const base64 = btoa(String.fromCharCode.apply(null, chunk));\n",
              "      yield {\n",
              "        response: {\n",
              "          action: 'append',\n",
              "          file: file.name,\n",
              "          data: base64,\n",
              "        },\n",
              "      };\n",
              "\n",
              "      let percentDone = fileData.byteLength === 0 ?\n",
              "          100 :\n",
              "          Math.round((position / fileData.byteLength) * 100);\n",
              "      percent.textContent = `${percentDone}% done`;\n",
              "\n",
              "    } while (position < fileData.byteLength);\n",
              "  }\n",
              "\n",
              "  // All done.\n",
              "  yield {\n",
              "    response: {\n",
              "      action: 'complete',\n",
              "    }\n",
              "  };\n",
              "}\n",
              "\n",
              "scope.google = scope.google || {};\n",
              "scope.google.colab = scope.google.colab || {};\n",
              "scope.google.colab._files = {\n",
              "  _uploadFiles,\n",
              "  _uploadFilesContinue,\n",
              "};\n",
              "})(self);\n",
              "</script> "
            ]
          },
          "metadata": {}
        },
        {
          "output_type": "stream",
          "name": "stdout",
          "text": [
            "Saving test equation gamma.jpg to test equation gamma (1).jpg\n"
          ]
        },
        {
          "output_type": "display_data",
          "data": {
            "text/plain": [
              "<Figure size 640x480 with 1 Axes>"
            ],
            "image/png": "[encoded data removed]"
          },
          "metadata": {}
        },
        {
          "output_type": "display_data",
          "data": {
            "text/plain": [
              "<Figure size 640x480 with 1 Axes>"
            ],
            "image/png": "[encoded data removed]"
          },
          "metadata": {}
        },
        {
          "output_type": "display_data",
          "data": {
            "text/plain": [
              "<Figure size 640x480 with 9 Axes>"
            ],
            "image/png": "[encoded data removed]"
          },
          "metadata": {}
        },
        {
          "output_type": "stream",
          "name": "stdout",
          "text": [
            "Drive already mounted at /content/drive; to attempt to forcibly remount, call drive.mount(\"/content/drive\", force_remount=True).\n",
            "\u001b[1m1/1\u001b[0m \u001b[32m━━━━━━━━━━━━━━━━━━━━\u001b[0m\u001b[37m\u001b[0m \u001b[1m0s\u001b[0m 288ms/step\n",
            "\u001b[1m1/1\u001b[0m \u001b[32m━━━━━━━━━━━━━━━━━━━━\u001b[0m\u001b[37m\u001b[0m \u001b[1m0s\u001b[0m 27ms/step\n",
            "\u001b[1m1/1\u001b[0m \u001b[32m━━━━━━━━━━━━━━━━━━━━\u001b[0m\u001b[37m\u001b[0m \u001b[1m0s\u001b[0m 29ms/step\n",
            "\u001b[1m1/1\u001b[0m \u001b[32m━━━━━━━━━━━━━━━━━━━━\u001b[0m\u001b[37m\u001b[0m \u001b[1m0s\u001b[0m 27ms/step\n",
            "\u001b[1m1/1\u001b[0m \u001b[32m━━━━━━━━━━━━━━━━━━━━\u001b[0m\u001b[37m\u001b[0m \u001b[1m0s\u001b[0m 29ms/step\n",
            "\u001b[1m1/1\u001b[0m \u001b[32m━━━━━━━━━━━━━━━━━━━━\u001b[0m\u001b[37m\u001b[0m \u001b[1m0s\u001b[0m 27ms/step\n",
            "\u001b[1m1/1\u001b[0m \u001b[32m━━━━━━━━━━━━━━━━━━━━\u001b[0m\u001b[37m\u001b[0m \u001b[1m0s\u001b[0m 26ms/step\n",
            "\u001b[1m1/1\u001b[0m \u001b[32m━━━━━━━━━━━━━━━━━━━━\u001b[0m\u001b[37m\u001b[0m \u001b[1m0s\u001b[0m 30ms/step\n",
            "\u001b[1m1/1\u001b[0m \u001b[32m━━━━━━━━━━━━━━━━━━━━\u001b[0m\u001b[37m\u001b[0m \u001b[1m0s\u001b[0m 25ms/step\n",
            "Equation: 83+20/7*4\n",
            "Solution: 94.42857142857143\n"
          ]
        },
        {
          "output_type": "execute_result",
          "data": {
            "text/plain": [
              "94.42857142857143"
            ]
          },
          "metadata": {},
          "execution_count": 17
        }
      ]
    },
    {
      "cell_type": "code",
      "source": [
        "import cv2\n",
        "import numpy as np\n",
        "from matplotlib import pyplot as plt\n",
        "import ipywidgets as widgets\n",
        "from IPython.display import display\n",
        "\n",
        "# Create widgets\n",
        "upload_button = widgets.FileUpload(accept='image/*', multiple=False)\n",
        "evaluate_button = widgets.Button(description=\"Evaluate Equation\", disabled=True)\n",
        "reset_button = widgets.Button(description=\"Reset\", disabled=False)\n",
        "\n",
        "# Style the buttons with colors\n",
        "upload_button.style.button_color = '#FFD700'\n",
        "evaluate_button.style.button_color = 'gray'\n",
        "reset_button.style.button_color = 'red'\n",
        "\n",
        "# Arrange buttons side by side using HBox\n",
        "button_box = widgets.HBox([upload_button, evaluate_button, reset_button])\n",
        "\n",
        "output = widgets.Output()\n",
        "\n",
        "# Display widgets\n",
        "display(button_box, output)\n",
        "\n",
        "# Function to handle image upload\n",
        "def on_upload_change(change):\n",
        "    # This function will be triggered when a file is uploaded\n",
        "    uploaded_file = list(upload_button.value.values())[0]\n",
        "    img_data = uploaded_file['content']\n",
        "    img = np.array(bytearray(img_data), dtype=np.uint8)\n",
        "    img = cv2.imdecode(img, cv2.IMREAD_GRAYSCALE)\n",
        "\n",
        "    # Display the uploaded image\n",
        "    with output:\n",
        "        plt.imshow(img, cmap='gray')\n",
        "        plt.title(\"Uploaded Image\")\n",
        "        plt.axis('off')\n",
        "        plt.show()\n",
        "\n",
        "    # Store the image for later processing\n",
        "    globals()['img'] = img\n",
        "\n",
        "    # Change button color after upload\n",
        "    upload_button.style.button_color = 'green'  # Change color of upload button\n",
        "    evaluate_button.disabled = False  # Enable evaluate button\n",
        "    evaluate_button.style.button_color = 'green'  # Change color of evaluate button\n",
        "\n",
        "# Function to evaluate the equation\n",
        "def on_evaluate_button_clicked(b):\n",
        "    if 'img' not in globals():\n",
        "        with output:\n",
        "            print(\"Please upload an image first!\")\n",
        "        return\n",
        "\n",
        "    # Preprocess the image and extract symbols\n",
        "    cropped_symbols, _ = preprocess_and_segment_equation(img)  # Unpack the tuple here\n",
        "\n",
        "    # Predict each symbol and construct the equation\n",
        "    predicted_equation = []\n",
        "    for symbol in cropped_symbols:\n",
        "        predicted_label = predict_symbol(symbol)\n",
        "        predicted_equation.append(predicted_label)\n",
        "\n",
        "    # Parse and solve the equation\n",
        "    equation, result = parse_and_solve(predicted_equation)\n",
        "\n",
        "    with output:\n",
        "        if equation:\n",
        "            print(f\"Equation: {equation}\")\n",
        "            print(f\"Solution: {result}\")\n",
        "        else:\n",
        "            print(f\"Error: {result}\")\n",
        "\n",
        "# Function to reset the interface\n",
        "def on_reset_button_clicked(b):\n",
        "    # Reset the buttons and output\n",
        "    upload_button.value.clear()  # Clear uploaded file\n",
        "    upload_button.style.button_color = '#FFD700'  # Reset button color\n",
        "    evaluate_button.disabled = True  # Disable evaluate button\n",
        "    evaluate_button.style.button_color = 'gray'  # Reset evaluate button color\n",
        "    reset_button.style.button_color = 'red'  # Reset reset button color\n",
        "    output.clear_output()  # Clear output\n",
        "\n",
        "# Link functions to the widgets\n",
        "upload_button.observe(on_upload_change, names='value')\n",
        "evaluate_button.on_click(on_evaluate_button_clicked)\n",
        "reset_button.on_click(on_reset_button_clicked)\n"
      ],
      "metadata": {
        "colab": {
          "base_uri": "https://localhost:8080/",
          "height": 803,
          "referenced_widgets": [
            "0bf4ad8f1fd7468c8512a5abfecb002a",
            "3152b14134334db5a2ceb3f4dc800990",
            "22b64a6348764354b43573adc79436c5",
            "6e11ea8236b443cd992924ae59f666ab",
            "9324a7bc994442d3bd0ee3d774d551d0",
            "10f495a5ec0c45ecbfdac6a549a05490",
            "e6d875f8ad314af7a69c168c8358dc0b",
            "916b3bca7d3e48f38abe752c38e26b52",
            "c7a909c231044ed5b2025baf3ab7b211",
            "18f4258dc2e4461294b9f11113dd526a",
            "c25107562ba64aacaf2740688ef29db2",
            "82fe3183a71848758cf5bdff3b8c1879",
            "21303db36fa3431caf1edc514ca63919"
          ]
        },
        "id": "Qm9qiCl6xmMG",
        "outputId": "cce27088-c426-4382-ff84-cc18fdce457e"
      },
      "execution_count": null,
      "outputs": [
        {
          "output_type": "display_data",
          "data": {
            "text/plain": [
              "HBox(children=(FileUpload(value={}, accept='image/*', description='Upload', style=ButtonStyle(button_color='#F…"
            ],
            "application/vnd.jupyter.widget-view+json": {
              "version_major": 2,
              "version_minor": 0,
              "model_id": "0bf4ad8f1fd7468c8512a5abfecb002a"
            }
          },
          "metadata": {}
        },
        {
          "output_type": "display_data",
          "data": {
            "text/plain": [
              "Output()"
            ],
            "application/vnd.jupyter.widget-view+json": {
              "version_major": 2,
              "version_minor": 0,
              "model_id": "82fe3183a71848758cf5bdff3b8c1879"
            }
          },
          "metadata": {}
        },
        {
          "output_type": "stream",
          "name": "stdout",
          "text": [
            "\u001b[1m1/1\u001b[0m \u001b[32m━━━━━━━━━━━━━━━━━━━━\u001b[0m\u001b[37m\u001b[0m \u001b[1m0s\u001b[0m 36ms/step\n",
            "\u001b[1m1/1\u001b[0m \u001b[32m━━━━━━━━━━━━━━━━━━━━\u001b[0m\u001b[37m\u001b[0m \u001b[1m0s\u001b[0m 28ms/step\n",
            "\u001b[1m1/1\u001b[0m \u001b[32m━━━━━━━━━━━━━━━━━━━━\u001b[0m\u001b[37m\u001b[0m \u001b[1m0s\u001b[0m 26ms/step\n",
            "\u001b[1m1/1\u001b[0m \u001b[32m━━━━━━━━━━━━━━━━━━━━\u001b[0m\u001b[37m\u001b[0m \u001b[1m0s\u001b[0m 29ms/step\n",
            "\u001b[1m1/1\u001b[0m \u001b[32m━━━━━━━━━━━━━━━━━━━━\u001b[0m\u001b[37m\u001b[0m \u001b[1m0s\u001b[0m 26ms/step\n",
            "\u001b[1m1/1\u001b[0m \u001b[32m━━━━━━━━━━━━━━━━━━━━\u001b[0m\u001b[37m\u001b[0m \u001b[1m0s\u001b[0m 27ms/step\n",
            "\u001b[1m1/1\u001b[0m \u001b[32m━━━━━━━━━━━━━━━━━━━━\u001b[0m\u001b[37m\u001b[0m \u001b[1m0s\u001b[0m 26ms/step\n",
            "\u001b[1m1/1\u001b[0m \u001b[32m━━━━━━━━━━━━━━━━━━━━\u001b[0m\u001b[37m\u001b[0m \u001b[1m0s\u001b[0m 26ms/step\n",
            "\u001b[1m1/1\u001b[0m \u001b[32m━━━━━━━━━━━━━━━━━━━━\u001b[0m\u001b[37m\u001b[0m \u001b[1m0s\u001b[0m 29ms/step\n",
            "Equation: 1+2-3*4/5\n",
            "Solution: 0.6000000000000001\n",
            "\u001b[1m1/1\u001b[0m \u001b[32m━━━━━━━━━━━━━━━━━━━━\u001b[0m\u001b[37m\u001b[0m \u001b[1m0s\u001b[0m 30ms/step\n",
            "\u001b[1m1/1\u001b[0m \u001b[32m━━━━━━━━━━━━━━━━━━━━\u001b[0m\u001b[37m\u001b[0m \u001b[1m0s\u001b[0m 29ms/step\n",
            "\u001b[1m1/1\u001b[0m \u001b[32m━━━━━━━━━━━━━━━━━━━━\u001b[0m\u001b[37m\u001b[0m \u001b[1m0s\u001b[0m 26ms/step\n",
            "\u001b[1m1/1\u001b[0m \u001b[32m━━━━━━━━━━━━━━━━━━━━\u001b[0m\u001b[37m\u001b[0m \u001b[1m0s\u001b[0m 27ms/step\n",
            "\u001b[1m1/1\u001b[0m \u001b[32m━━━━━━━━━━━━━━━━━━━━\u001b[0m\u001b[37m\u001b[0m \u001b[1m0s\u001b[0m 26ms/step\n",
            "\u001b[1m1/1\u001b[0m \u001b[32m━━━━━━━━━━━━━━━━━━━━\u001b[0m\u001b[37m\u001b[0m \u001b[1m0s\u001b[0m 35ms/step\n",
            "\u001b[1m1/1\u001b[0m \u001b[32m━━━━━━━━━━━━━━━━━━━━\u001b[0m\u001b[37m\u001b[0m \u001b[1m0s\u001b[0m 27ms/step\n",
            "\u001b[1m1/1\u001b[0m \u001b[32m━━━━━━━━━━━━━━━━━━━━\u001b[0m\u001b[37m\u001b[0m \u001b[1m0s\u001b[0m 28ms/step\n",
            "\u001b[1m1/1\u001b[0m \u001b[32m━━━━━━━━━━━━━━━━━━━━\u001b[0m\u001b[37m\u001b[0m \u001b[1m0s\u001b[0m 28ms/step\n",
            "\u001b[1m1/1\u001b[0m \u001b[32m━━━━━━━━━━━━━━━━━━━━\u001b[0m\u001b[37m\u001b[0m \u001b[1m0s\u001b[0m 27ms/step\n",
            "Equation: 67+24-12*3\n",
            "Solution: 55\n"
          ]
        }
      ]
    },
    {
      "cell_type": "markdown",
      "source": [
        "### What next?\n",
        "There are many steps we can do after this,\n",
        "* We can make a mobile application with an interactive UI with camera access to directly take photograph of the equation instead of manually selecting image from our local drive or we can integrate a \"whiteboard\" that allows user to write directly on the screen of the device.\n",
        "* In input image preprocessing we can record positions of each symbols with respect to each other, this way we can use **exponents** and use variable **x** taking use of the similarity between x and multiplication operator, while using the same model\n",
        "* We can use powerful python libraries like **SymPy** or API's like **WolframAlpha** for solving complex equations which can't be solved using eval() function alone, and possibly giving a step by step solution\n",
        "* Using retraining or fine-tuning or transfer learning, we can make the model more robust and have more classes for different useful mathematic operations, such as decimals, parentheses, variables, integrals, trigonometric symbols, etc."
      ],
      "metadata": {
        "id": "r4aSOKxOwHpB"
      }
    },
    {
      "cell_type": "markdown",
      "source": [
        "## So we have decided to try and incorporate exponents and variable x support\n",
        "(Currently in development, please ignore)"
      ],
      "metadata": {
        "id": "o3KG0jWggZ6I"
      }
    },
    {
      "cell_type": "markdown",
      "source": [
        "### Proposed function for exponent recognition (not completed)"
      ],
      "metadata": {
        "id": "HdaeXIuCgi54"
      }
    },
    {
      "cell_type": "code",
      "source": [
        "# def detect_exponent(symbols, height_threshold=10, horizontal_threshold=15):\n",
        "#     exponent_indices = []  # List to store the indices of exponents\n",
        "\n",
        "#     for i in range(1, len(symbols)):  # Start from 1 because we compare with the previous symbol\n",
        "#         base = symbols[i - 1]\n",
        "#         exponent = symbols[i]\n",
        "\n",
        "#         x_base, y_base, w_base, h_base = cv2.boundingRect(base)\n",
        "#         x_exp, y_exp, w_exp, h_exp = cv2.boundingRect(exponent)\n",
        "\n",
        "#         # Calculate the bottom edge of the bounding box for both base and exponent\n",
        "#         bottom_base = y_base + h_base\n",
        "#         bottom_exp = y_exp + h_exp\n",
        "\n",
        "#         # Check if the second symbol (potential exponent) is above the first symbol (base)\n",
        "#         if (bottom_exp < y_base) and (abs(bottom_exp - bottom_base) > height_threshold) and (abs(x_exp - x_base) < horizontal_threshold):\n",
        "#             # If the vertical offset from the base bottom is large enough, it's an exponent\n",
        "#             exponent_indices.append(i)  # Store the index of the exponent\n",
        "\n",
        "#     return exponent_indices\n"
      ],
      "metadata": {
        "id": "gCQlCiDeXkus"
      },
      "execution_count": null,
      "outputs": []
    },
    {
      "cell_type": "markdown",
      "source": [
        "## Editing the parsing and solve part to incorporate variable 'x' as well using basic logic (not completed)"
      ],
      "metadata": {
        "id": "pyTErDEmkdyz"
      }
    },
    {
      "cell_type": "code",
      "source": [
        "# def parse_and_solve(predicted_list):  # predicted_list contains the list of all predictions done by the model, which is sorted according to the order in the equation\n",
        "#     # Define a mapping for the operator words to symbols\n",
        "#     operator_map = {\n",
        "#         'add': '+',\n",
        "#         'mul': '*',\n",
        "#         'div': '/',\n",
        "#         'sub': '-'\n",
        "#     }\n",
        "\n",
        "#     # Initialize an empty string to hold the equation\n",
        "#     equation = \"\"\n",
        "\n",
        "#     # Loop through the predicted list and apply context-based logic for 'mul' (which could be 'x' or '*')\n",
        "#     for i, item in enumerate(predicted_list):\n",
        "\n",
        "#         if item == 'mul':  # We have a 'mul' prediction, decide if it's '*' or 'x'\n",
        "#             # Check if the next symbol is a digit or another operator\n",
        "#             if i + 1 < len(predicted_list):\n",
        "#                 next_item = predicted_list[i + 1]\n",
        "#                 if next_item.isdigit():  # If next item is a digit, treat 'mul' as '*'\n",
        "#                     equation += '*'  # Multiplication operator\n",
        "#                 else:\n",
        "#                     equation += 'x'  # Treat 'mul' as the variable 'x'\n",
        "#             else:\n",
        "#                 # If it's the last symbol, assume 'mul' is 'x' (variable)\n",
        "#                 equation += 'x'\n",
        "\n",
        "#         elif item in operator_map:\n",
        "#             # Replace operators with their symbols\n",
        "#             equation += operator_map[item]\n",
        "#         else:\n",
        "#             # Add the digits or other symbols as they are\n",
        "#             equation += item\n",
        "\n",
        "#     # Print the stitched equation\n",
        "#     print(f\"Equation: {equation}\")\n",
        "\n",
        "#     try:\n",
        "#         # Evaluate the equation safely\n",
        "#         result = eval(equation)\n",
        "#         print(f\"Solution: {result}\")\n",
        "#         return result\n",
        "#     except Exception as e:\n",
        "#         print(f\"Error evaluating the equation: {e}\")\n",
        "#         return None\n"
      ],
      "metadata": {
        "id": "96LJ6bAXkmO1"
      },
      "execution_count": null,
      "outputs": []
    },
    {
      "cell_type": "markdown",
      "source": [
        "## Nex steps are incorporating essential symbols we use daily, the symbols planned are: (not completed)\n",
        "> =,(),\".\",y\n",
        "\n",
        "> So onto search of dataset we go!!!!"
      ],
      "metadata": {
        "id": "ToHhpXM7lMcj"
      }
    },
    {
      "cell_type": "code",
      "source": [],
      "metadata": {
        "id": "3JhjM7YTlU4e"
      },
      "execution_count": null,
      "outputs": []
    }
  ]
}